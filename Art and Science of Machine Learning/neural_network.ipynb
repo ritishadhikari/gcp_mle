{
 "cells": [
  {
   "cell_type": "markdown",
   "metadata": {},
   "source": [
    "# Build a DNN using the Keras Functional API\n",
    "\n",
    "\n",
    "\n",
    "\n",
    "### Learning objectives\n",
    "\n",
    "1. Review how to read in CSV file data using tf.data\n",
    "2. Specify input, hidden, and output layers in the DNN architecture\n",
    "3. Review and visualize the final DNN shape\n",
    "4. Train the model locally and visualize the loss curves\n",
    "5. Deploy and predict with the model using Cloud AI Platform \n",
    "\n",
    "In this notebook, we will build a Keras DNN to predict the fare amount for NYC taxi cab rides.\n",
    "\n",
    "Each learning objective will correspond to a __#TODO__ in the [student lab notebook](../labs/neural_network.ipynb) -- try to complete that notebook first before reviewing this solution notebook. "
   ]
  },
  {
   "cell_type": "code",
   "execution_count": 1,
   "metadata": {},
   "outputs": [
    {
     "name": "stdout",
     "output_type": "stream",
     "text": [
      "TensorFlow version:  2.5.0\n"
     ]
    }
   ],
   "source": [
    "# You can use any Python source file as a module by executing an import statement in some other Python source file\n",
    "# The import statement combines two operations; it searches for the named module, then it binds the\n",
    "# results of that search to a name in the local scope.\n",
    "import os, json, math\n",
    "# Import data processing libraries like Numpy and TensorFlow\n",
    "import numpy as np\n",
    "import tensorflow as tf\n",
    "# Python shutil module enables us to operate with file objects easily and without diving into file objects a lot.\n",
    "import shutil\n",
    "# Show the currently installed version of TensorFlow\n",
    "print(\"TensorFlow version: \",tf.version.VERSION)\n",
    "\n",
    "os.environ['TF_CPP_MIN_LOG_LEVEL'] = '3' # SET TF ERROR LOG VERBOSITY"
   ]
  },
  {
   "cell_type": "markdown",
   "metadata": {},
   "source": [
    "## Locating the CSV files\n",
    "\n",
    "We will start with the CSV files that we wrote out in the [first notebook](../01_explore/taxifare.iypnb) of this sequence. Just so you don't have to run the notebook, we saved a copy in ../../data"
   ]
  },
  {
   "cell_type": "code",
   "execution_count": 2,
   "metadata": {},
   "outputs": [
    {
     "name": "stdout",
     "output_type": "stream",
     "text": [
      "-rw-r--r-- 1 jupyter jupyter 2186310 Aug  2 05:43 ../data/taxi-traffic-test.csv\n",
      "-rw-r--r-- 1 jupyter jupyter 9713118 Aug  2 05:43 ../data/taxi-traffic-train.csv\n",
      "-rw-r--r-- 1 jupyter jupyter 2036826 Aug  2 05:43 ../data/taxi-traffic-valid.csv\n"
     ]
    }
   ],
   "source": [
    "# `ls` is a Linux shell command that lists directory contents\n",
    "# `l` flag list all the files with permissions and details\n",
    "!ls -l ../data/*.csv"
   ]
  },
  {
   "cell_type": "markdown",
   "metadata": {},
   "source": [
    "## Lab Task 1: Use tf.data to read the CSV files\n",
    "\n",
    "We wrote these cells in the [third notebook](../03_tfdata/solution/input_pipeline.ipynb) of this sequence where we created a data pipeline with Keras.\n",
    "\n",
    "First let's define our columns of data, which column we're predicting for, and the default values."
   ]
  },
  {
   "cell_type": "code",
   "execution_count": 3,
   "metadata": {},
   "outputs": [],
   "source": [
    "# Define columns of data\n",
    "CSV_COLUMNS  = ['fare_amount',  'pickup_datetime',\n",
    "                'pickup_longitude', 'pickup_latitude', \n",
    "                'dropoff_longitude', 'dropoff_latitude', \n",
    "                'passenger_count', 'key']\n",
    "LABEL_COLUMN = 'fare_amount'\n",
    "DEFAULTS     = [[0.0],['na'],[0.0],[0.0],[0.0],[0.0],[0.0],['na']]"
   ]
  },
  {
   "cell_type": "markdown",
   "metadata": {},
   "source": [
    "Next, let's define our features we want to use and our label(s) and then load in the dataset for training."
   ]
  },
  {
   "cell_type": "code",
   "execution_count": 4,
   "metadata": {},
   "outputs": [],
   "source": [
    "# Define features you want to use\n",
    "def features_and_labels(row_data):\n",
    "    for unwanted_col in ['pickup_datetime', 'key']:\n",
    "        row_data.pop(unwanted_col)\n",
    "    label = row_data.pop(LABEL_COLUMN)\n",
    "    return row_data, label  # features, label\n",
    "\n",
    "# load the training data\n",
    "def load_dataset(pattern, batch_size=1, mode=tf.estimator.ModeKeys.EVAL):\n",
    "  dataset = (tf.data.experimental.make_csv_dataset(pattern, batch_size, CSV_COLUMNS, DEFAULTS)\n",
    "             .map(features_and_labels) # features, label\n",
    "             )\n",
    "  if mode == tf.estimator.ModeKeys.TRAIN:\n",
    "        dataset = dataset.shuffle(1000).repeat()\n",
    "  dataset = dataset.prefetch(1) # take advantage of multi-threading; 1=AUTOTUNE\n",
    "  return dataset"
   ]
  },
  {
   "cell_type": "markdown",
   "metadata": {},
   "source": [
    "## Lab Task 2: Build a DNN with Keras\n",
    "\n",
    "Now let's build the Deep Neural Network (DNN) model in Keras and specify the input and hidden layers. We will print out the DNN architecture and then visualize it later on."
   ]
  },
  {
   "cell_type": "code",
   "execution_count": 10,
   "metadata": {},
   "outputs": [
    {
     "name": "stdout",
     "output_type": "stream",
     "text": [
      "Here is our DNN architecture so far:\n",
      "\n",
      "Model: \"model_2\"\n",
      "__________________________________________________________________________________________________\n",
      "Layer (type)                    Output Shape         Param #     Connected to                     \n",
      "==================================================================================================\n",
      "dropoff_latitude (InputLayer)   [(None,)]            0                                            \n",
      "__________________________________________________________________________________________________\n",
      "dropoff_longitude (InputLayer)  [(None,)]            0                                            \n",
      "__________________________________________________________________________________________________\n",
      "passenger_count (InputLayer)    [(None,)]            0                                            \n",
      "__________________________________________________________________________________________________\n",
      "pickup_latitude (InputLayer)    [(None,)]            0                                            \n",
      "__________________________________________________________________________________________________\n",
      "pickup_longitude (InputLayer)   [(None,)]            0                                            \n",
      "__________________________________________________________________________________________________\n",
      "dense_features_2 (DenseFeatures (None, 5)            0           dropoff_latitude[0][0]           \n",
      "                                                                 dropoff_longitude[0][0]          \n",
      "                                                                 passenger_count[0][0]            \n",
      "                                                                 pickup_latitude[0][0]            \n",
      "                                                                 pickup_longitude[0][0]           \n",
      "__________________________________________________________________________________________________\n",
      "h1 (Dense)                      (None, 32)           192         dense_features_2[0][0]           \n",
      "__________________________________________________________________________________________________\n",
      "h2 (Dense)                      (None, 8)            264         h1[0][0]                         \n",
      "__________________________________________________________________________________________________\n",
      "fare (Dense)                    (None, 1)            9           h2[0][0]                         \n",
      "==================================================================================================\n",
      "Total params: 465\n",
      "Trainable params: 465\n",
      "Non-trainable params: 0\n",
      "__________________________________________________________________________________________________\n",
      "None\n"
     ]
    }
   ],
   "source": [
    "# Build a simple Keras DNN using its Functional API\n",
    "def rmse(y_true, y_pred):\n",
    "    return tf.sqrt(tf.reduce_mean(tf.square(y_pred - y_true))) \n",
    "\n",
    "def build_dnn_model():\n",
    "    INPUT_COLS = ['pickup_longitude', 'pickup_latitude', \n",
    "                  'dropoff_longitude', 'dropoff_latitude', \n",
    "                  'passenger_count']\n",
    "\n",
    "    # TODO 2\n",
    "    # input layer\n",
    "    inputs = {\n",
    "        colname : tf.keras.layers.Input(name=colname, shape=(), dtype='float32')\n",
    "           for colname in INPUT_COLS\n",
    "    }\n",
    "    # tf.feature_column.numeric_column() represents real valued or numerical features.\n",
    "    feature_columns = {\n",
    "        colname : tf.feature_column.numeric_column(colname)\n",
    "           for colname in INPUT_COLS\n",
    "    }\n",
    "    \n",
    "    # the constructor for DenseFeatures takes a list of numeric columns\n",
    "    # The Functional API in Keras requires that you specify: LayerConstructor()(inputs)\n",
    "    dnn_inputs = tf.keras.layers.DenseFeatures(feature_columns.values())(inputs)\n",
    "\n",
    "    # two hidden layers of [32, 8] just in like the BQML DNN\n",
    "    h1 = tf.keras.layers.Dense(32, activation='relu', name='h1')(dnn_inputs)\n",
    "    h2 = tf.keras.layers.Dense(8, activation='relu', name='h2')(h1)\n",
    "\n",
    "    # final output is a linear activation because this is regression\n",
    "    output = tf.keras.layers.Dense(1, activation='linear', name='fare')(h2)\n",
    "    model = tf.keras.models.Model(inputs, output)\n",
    "#     model.compile(optimizer='adam', loss='mse', metrics=[rmse, 'mse'])\n",
    "    model.compile(optimizer=tf.keras.optimizers.Adam(learning_rate=0.001),loss='mse', metrics=[rmse, 'mse'])\n",
    "    return model\n",
    "\n",
    "print(\"Here is our DNN architecture so far:\\n\")\n",
    "model = build_dnn_model()\n",
    "print(model.summary())"
   ]
  },
  {
   "cell_type": "markdown",
   "metadata": {},
   "source": [
    "## Lab Task 3: Visualize the DNN\n",
    "\n",
    "We can visualize the DNN using the Keras [plot_model](https://www.tensorflow.org/versions/r2.0/api_docs/python/tf/keras/utils/plot_model) utility."
   ]
  },
  {
   "cell_type": "code",
   "execution_count": 11,
   "metadata": {},
   "outputs": [
    {
     "data": {
      "image/png": "[encoded data removed]",
      "text/plain": [
       "<IPython.core.display.Image object>"
      ]
     },
     "execution_count": 11,
     "metadata": {},
     "output_type": "execute_result"
    }
   ],
   "source": [
    "# tf.keras.utils.plot_model() Converts a Keras model to dot format and save to a file.\n",
    "tf.keras.utils.plot_model(model, 'dnn_model.png', show_shapes=False, rankdir='LR')"
   ]
  },
  {
   "cell_type": "markdown",
   "metadata": {},
   "source": [
    "## Lab Task 4: Train the model\n",
    "\n",
    "To train the model, simply call [model.fit()](https://keras.io/models/model/#fit).\n",
    "\n",
    "Note that we should really use many more NUM_TRAIN_EXAMPLES (i.e. a larger dataset). We shouldn't make assumptions about the quality of the model based on training/evaluating it on a small sample of the full data."
   ]
  },
  {
   "cell_type": "code",
   "execution_count": 12,
   "metadata": {},
   "outputs": [
    {
     "name": "stdout",
     "output_type": "stream",
     "text": [
      "Epoch 1/32\n",
      "48/48 [==============================] - 3s 32ms/step - loss: 438.7704 - rmse: 19.1543 - mse: 438.7704 - val_loss: 95.3508 - val_rmse: 9.7485 - val_mse: 95.3508\n",
      "Epoch 2/32\n",
      "48/48 [==============================] - 1s 30ms/step - loss: 102.7551 - rmse: 9.6315 - mse: 102.7551 - val_loss: 88.5450 - val_rmse: 9.3964 - val_mse: 88.5450\n",
      "Epoch 3/32\n",
      "48/48 [==============================] - 1s 27ms/step - loss: 92.4742 - rmse: 8.8714 - mse: 92.4742 - val_loss: 86.3177 - val_rmse: 9.2718 - val_mse: 86.3177\n",
      "Epoch 4/32\n",
      "48/48 [==============================] - 1s 23ms/step - loss: 84.1969 - rmse: 8.7426 - mse: 84.1969 - val_loss: 87.0472 - val_rmse: 9.3174 - val_mse: 87.0472\n",
      "Epoch 5/32\n",
      "48/48 [==============================] - 1s 24ms/step - loss: 104.3350 - rmse: 9.4545 - mse: 104.3350 - val_loss: 88.4071 - val_rmse: 9.3819 - val_mse: 88.4071\n",
      "Epoch 6/32\n",
      "48/48 [==============================] - 1s 27ms/step - loss: 107.9733 - rmse: 9.3710 - mse: 107.9733 - val_loss: 88.1832 - val_rmse: 9.3658 - val_mse: 88.1832\n",
      "Epoch 7/32\n",
      "48/48 [==============================] - 1s 30ms/step - loss: 79.9223 - rmse: 8.5581 - mse: 79.9223 - val_loss: 90.4052 - val_rmse: 9.4929 - val_mse: 90.4052\n",
      "Epoch 8/32\n",
      "48/48 [==============================] - 1s 25ms/step - loss: 86.2523 - rmse: 8.6653 - mse: 86.2523 - val_loss: 89.3017 - val_rmse: 9.4204 - val_mse: 89.3017\n",
      "Epoch 9/32\n",
      "48/48 [==============================] - 1s 22ms/step - loss: 90.3315 - rmse: 8.9571 - mse: 90.3315 - val_loss: 82.9395 - val_rmse: 9.0981 - val_mse: 82.9395\n",
      "Epoch 10/32\n",
      "48/48 [==============================] - 1s 21ms/step - loss: 93.4302 - rmse: 9.1596 - mse: 93.4302 - val_loss: 87.5632 - val_rmse: 9.3402 - val_mse: 87.5632\n",
      "Epoch 11/32\n",
      "48/48 [==============================] - 1s 25ms/step - loss: 88.8616 - rmse: 8.9507 - mse: 88.8616 - val_loss: 89.5331 - val_rmse: 9.4230 - val_mse: 89.5331\n",
      "Epoch 12/32\n",
      "48/48 [==============================] - 1s 25ms/step - loss: 94.2292 - rmse: 9.0616 - mse: 94.2292 - val_loss: 84.9666 - val_rmse: 9.2035 - val_mse: 84.9666\n",
      "Epoch 13/32\n",
      "48/48 [==============================] - 1s 27ms/step - loss: 88.9964 - rmse: 8.9606 - mse: 88.9964 - val_loss: 88.2710 - val_rmse: 9.3827 - val_mse: 88.2710\n",
      "Epoch 14/32\n",
      "48/48 [==============================] - 1s 26ms/step - loss: 102.9045 - rmse: 9.2330 - mse: 102.9045 - val_loss: 86.1721 - val_rmse: 9.2677 - val_mse: 86.1721\n",
      "Epoch 15/32\n",
      "48/48 [==============================] - 1s 30ms/step - loss: 72.0308 - rmse: 8.1171 - mse: 72.0308 - val_loss: 88.7627 - val_rmse: 9.4094 - val_mse: 88.7627\n",
      "Epoch 16/32\n",
      "48/48 [==============================] - 1s 22ms/step - loss: 95.0145 - rmse: 9.2912 - mse: 95.0145 - val_loss: 86.9813 - val_rmse: 9.2924 - val_mse: 86.9813\n",
      "Epoch 17/32\n",
      "48/48 [==============================] - 1s 24ms/step - loss: 96.3280 - rmse: 9.3115 - mse: 96.3280 - val_loss: 87.0077 - val_rmse: 9.3071 - val_mse: 87.0077\n",
      "Epoch 18/32\n",
      "48/48 [==============================] - 1s 22ms/step - loss: 101.2498 - rmse: 9.5789 - mse: 101.2498 - val_loss: 87.1118 - val_rmse: 9.3101 - val_mse: 87.1118\n",
      "Epoch 19/32\n",
      "48/48 [==============================] - 1s 27ms/step - loss: 81.1843 - rmse: 8.5534 - mse: 81.1843 - val_loss: 88.2720 - val_rmse: 9.3821 - val_mse: 88.2720\n",
      "Epoch 20/32\n",
      "48/48 [==============================] - 1s 24ms/step - loss: 82.7787 - rmse: 8.6131 - mse: 82.7787 - val_loss: 86.3332 - val_rmse: 9.2759 - val_mse: 86.3332\n",
      "Epoch 21/32\n",
      "48/48 [==============================] - 1s 26ms/step - loss: 96.1187 - rmse: 9.4159 - mse: 96.1187 - val_loss: 90.3530 - val_rmse: 9.4756 - val_mse: 90.3530\n",
      "Epoch 22/32\n",
      "48/48 [==============================] - 1s 27ms/step - loss: 85.7192 - rmse: 8.8187 - mse: 85.7192 - val_loss: 86.4901 - val_rmse: 9.2860 - val_mse: 86.4901\n",
      "Epoch 23/32\n",
      "48/48 [==============================] - 1s 23ms/step - loss: 110.0874 - rmse: 10.0332 - mse: 110.0874 - val_loss: 83.3216 - val_rmse: 9.1226 - val_mse: 83.3216\n",
      "Epoch 24/32\n",
      "48/48 [==============================] - 1s 21ms/step - loss: 87.3720 - rmse: 8.9532 - mse: 87.3720 - val_loss: 86.9956 - val_rmse: 9.3207 - val_mse: 86.9956\n",
      "Epoch 25/32\n",
      "48/48 [==============================] - 1s 24ms/step - loss: 82.6462 - rmse: 8.6829 - mse: 82.6462 - val_loss: 84.9892 - val_rmse: 9.2073 - val_mse: 84.9892\n",
      "Epoch 26/32\n",
      "48/48 [==============================] - 1s 23ms/step - loss: 81.9282 - rmse: 8.6795 - mse: 81.9282 - val_loss: 91.0375 - val_rmse: 9.5076 - val_mse: 91.0375\n",
      "Epoch 27/32\n",
      "48/48 [==============================] - 1s 25ms/step - loss: 86.2768 - rmse: 8.8075 - mse: 86.2768 - val_loss: 89.8833 - val_rmse: 9.4505 - val_mse: 89.8833\n",
      "Epoch 28/32\n",
      "48/48 [==============================] - 2s 32ms/step - loss: 120.9644 - rmse: 9.7855 - mse: 120.9644 - val_loss: 88.5905 - val_rmse: 9.4010 - val_mse: 88.5905\n",
      "Epoch 29/32\n",
      "48/48 [==============================] - 1s 27ms/step - loss: 99.2253 - rmse: 9.5144 - mse: 99.2253 - val_loss: 84.7582 - val_rmse: 9.1917 - val_mse: 84.7582\n",
      "Epoch 30/32\n",
      "48/48 [==============================] - 1s 24ms/step - loss: 100.6094 - rmse: 9.6581 - mse: 100.6094 - val_loss: 91.7190 - val_rmse: 9.5638 - val_mse: 91.7190\n",
      "Epoch 31/32\n",
      "48/48 [==============================] - 1s 23ms/step - loss: 96.7553 - rmse: 9.3121 - mse: 96.7553 - val_loss: 88.8772 - val_rmse: 9.4115 - val_mse: 88.8772\n",
      "Epoch 32/32\n",
      "48/48 [==============================] - 1s 22ms/step - loss: 83.0734 - rmse: 8.5273 - mse: 83.0734 - val_loss: 88.7676 - val_rmse: 9.3902 - val_mse: 88.7676\n"
     ]
    }
   ],
   "source": [
    "TRAIN_BATCH_SIZE = 32\n",
    "NUM_TRAIN_EXAMPLES = 10000 * 5 # training dataset repeats, so it will wrap around\n",
    "NUM_EVALS = 32  # how many times to evaluate\n",
    "NUM_EVAL_EXAMPLES = 10000 # enough to get a reasonable sample, but not so much that it slows down\n",
    "\n",
    "trainds = load_dataset('../data/taxi-traffic-train*', TRAIN_BATCH_SIZE, tf.estimator.ModeKeys.TRAIN)\n",
    "evalds = load_dataset('../data/taxi-traffic-valid*', 1000, tf.estimator.ModeKeys.EVAL).take(NUM_EVAL_EXAMPLES//1000)\n",
    "\n",
    "steps_per_epoch = NUM_TRAIN_EXAMPLES // (TRAIN_BATCH_SIZE * NUM_EVALS)\n",
    "\n",
    "# Model Fit\n",
    "history = model.fit(trainds, \n",
    "                    validation_data=evalds,\n",
    "                    epochs=NUM_EVALS, \n",
    "                    steps_per_epoch=steps_per_epoch)"
   ]
  },
  {
   "cell_type": "markdown",
   "metadata": {},
   "source": [
    "### Visualize the model loss curve\n",
    "\n",
    "Next, we will use matplotlib to draw the model's loss curves for training and validation."
   ]
  },
  {
   "cell_type": "code",
   "execution_count": 13,
   "metadata": {},
   "outputs": [
    {
     "data": {
      "image/png": "[encoded data removed]",
      "text/plain": [
       "<Figure size 720x360 with 2 Axes>"
      ]
     },
     "metadata": {
      "needs_background": "light"
     },
     "output_type": "display_data"
    }
   ],
   "source": [
    "# plot\n",
    "# Use matplotlib for visualizing the model\n",
    "import matplotlib.pyplot as plt\n",
    "nrows = 1\n",
    "ncols = 2\n",
    "# The .figure() method will create a new figure, or activate an existing figure.\n",
    "fig = plt.figure(figsize=(10, 5))\n",
    "\n",
    "for idx, key in enumerate(['loss', 'rmse']):\n",
    "    ax = fig.add_subplot(nrows, ncols, idx+1)\n",
    "# The .plot() is a versatile function, and will take an arbitrary number of arguments. For example, to plot x versus y.\n",
    "    plt.plot(history.history[key])\n",
    "    plt.plot(history.history['val_{}'.format(key)])\n",
    "# The .title() method sets a title for the axes.\n",
    "    plt.title('model {}'.format(key))\n",
    "    plt.ylabel(key)\n",
    "    plt.xlabel('epoch')\n",
    "# The .legend() method will place a legend on the axes.\n",
    "    plt.legend(['train', 'validation'], loc='upper left');"
   ]
  },
  {
   "cell_type": "markdown",
   "metadata": {},
   "source": [
    "## Lab Task 5: Predict with the model locally\n",
    "\n",
    "To predict with Keras, you simply call [model.predict()](https://keras.io/models/model/#predict) and pass in the cab ride you want to predict the fare amount for."
   ]
  },
  {
   "cell_type": "code",
   "execution_count": 14,
   "metadata": {},
   "outputs": [],
   "source": [
    "data=np.array([-73.982683,40.742104,-73.983766,40.755174,3.0])"
   ]
  },
  {
   "cell_type": "code",
   "execution_count": 16,
   "metadata": {},
   "outputs": [
    {
     "data": {
      "text/plain": [
       "array([[-73.982683],\n",
       "       [ 40.742104],\n",
       "       [-73.983766],\n",
       "       [ 40.755174],\n",
       "       [  3.      ]])"
      ]
     },
     "execution_count": 16,
     "metadata": {},
     "output_type": "execute_result"
    }
   ],
   "source": [
    "data=data.reshape(-1,1)\n",
    "data"
   ]
  },
  {
   "cell_type": "code",
   "execution_count": 17,
   "metadata": {},
   "outputs": [],
   "source": [
    "pred_cols=['pickup_longitude','pickup_latitude','dropoff_longitude','dropoff_latitude','passenger_count']"
   ]
  },
  {
   "cell_type": "code",
   "execution_count": 21,
   "metadata": {},
   "outputs": [],
   "source": [
    "prediction_format={pred:tf.convert_to_tensor(data[ind]) for ind,pred in enumerate(pred_cols)}"
   ]
  },
  {
   "cell_type": "code",
   "execution_count": 24,
   "metadata": {},
   "outputs": [
    {
     "data": {
      "text/plain": [
       "array([[-54.69862]], dtype=float32)"
      ]
     },
     "execution_count": 24,
     "metadata": {},
     "output_type": "execute_result"
    }
   ],
   "source": [
    "model.predict(x=prediction_format,steps=1)"
   ]
  },
  {
   "cell_type": "code",
   "execution_count": null,
   "metadata": {},
   "outputs": [],
   "source": []
  },
  {
   "cell_type": "code",
   "execution_count": 25,
   "metadata": {},
   "outputs": [
    {
     "data": {
      "text/plain": [
       "array([[-54.69862]], dtype=float32)"
      ]
     },
     "execution_count": 25,
     "metadata": {},
     "output_type": "execute_result"
    }
   ],
   "source": [
    "# TODO 5\n",
    "# Use the model to do prediction with `model.predict()`\n",
    "model.predict({\n",
    "    'pickup_longitude': tf.convert_to_tensor([-73.982683]),\n",
    "    'pickup_latitude': tf.convert_to_tensor([40.742104]),\n",
    "    'dropoff_longitude': tf.convert_to_tensor([-73.983766]),\n",
    "    'dropoff_latitude': tf.convert_to_tensor([40.755174]),\n",
    "    'passenger_count': tf.convert_to_tensor([3.0]),    \n",
    "}, steps=1)"
   ]
  },
  {
   "cell_type": "markdown",
   "metadata": {},
   "source": [
    "Of course, this is not realistic, because we can't expect client code to have a model object in memory. We'll have to export our model to a file, and expect client code to instantiate the model from that exported file."
   ]
  },
  {
   "cell_type": "markdown",
   "metadata": {},
   "source": [
    "Copyright 2020 Google Inc.\n",
    "Licensed under the Apache License, Version 2.0 (the \"License\"); you may not use this file except in compliance with the License. You may obtain a copy of the License at\n",
    "http://www.apache.org/licenses/LICENSE-2.0\n",
    "Unless required by applicable law or agreed to in writing, software distributed under the License is distributed on an \"AS IS\" BASIS, WITHOUT WARRANTIES OR CONDITIONS OF ANY KIND, either express or implied. See the License for the specific language governing permissions and limitations under the License."
   ]
  }
 ],
 "metadata": {
  "environment": {
   "name": "tf2-gpu.2-5.m75",
   "type": "gcloud",
   "uri": "gcr.io/deeplearning-platform-release/tf2-gpu.2-5:m75"
  },
  "kernelspec": {
   "display_name": "Python 3",
   "language": "python",
   "name": "python3"
  },
  "language_info": {
   "codemirror_mode": {
    "name": "ipython",
    "version": 3
   },
   "file_extension": ".py",
   "mimetype": "text/x-python",
   "name": "python",
   "nbconvert_exporter": "python",
   "pygments_lexer": "ipython3",
   "version": "3.7.10"
  }
 },
 "nbformat": 4,
 "nbformat_minor": 4
}
