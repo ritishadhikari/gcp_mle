{
 "cells": [
  {
   "cell_type": "markdown",
   "source": [
    "# Training Models at Scale with AI Platform\n",
    "**Learning Objectives:**\n",
    "  1. Learn how to organize your training code into a Python package\n",
    "  1. Train your model using cloud infrastructure via Google Cloud AI Platform Training Service\n",
    "\n",
    "## Introduction\n",
    "\n",
    "In this notebook we'll make the jump from training locally, to do training in the cloud. We'll take advantage of Google Cloud's [AI Platform Training Service](https://cloud.google.com/ai-platform/). \n",
    "\n",
    "AI Platform Training Service is a managed service that allows the training and deployment of ML models without having to provision or maintain servers. The infrastructure is handled seamlessly by the managed service for us.\n",
    "\n",
    "Each learning objective will correspond to a __#TODO__ in the [student lab notebook](https://github.com/GoogleCloudPlatform/training-data-analyst/blob/master/courses/machine_learning/deepdive2/art_and_science_of_ml/labs/training_models_at_scale.ipynb) -- try to complete that notebook first before reviewing this solution notebook."
   ],
   "metadata": {}
  },
  {
   "cell_type": "code",
   "execution_count": 1,
   "source": [
    "# Use the chown command to change the ownership of repository to user\r\n",
    "!sudo chown -R jupyter:jupyter /home/jupyter/training-data-analyst"
   ],
   "outputs": [],
   "metadata": {
    "colab": {},
    "colab_type": "code",
    "id": "Nny3m465gKkY"
   }
  },
  {
   "cell_type": "code",
   "execution_count": 2,
   "source": [
    "# Install the Google Cloud BigQuery\r\n",
    "!pip install --user google-cloud-bigquery==1.25.0"
   ],
   "outputs": [
    {
     "output_type": "stream",
     "name": "stdout",
     "text": [
      "Collecting google-cloud-bigquery==1.25.0\n",
      "  Downloading google_cloud_bigquery-1.25.0-py2.py3-none-any.whl (169 kB)\n",
      "\u001b[K     |████████████████████████████████| 169 kB 8.3 MB/s eta 0:00:01\n",
      "\u001b[?25hRequirement already satisfied: google-cloud-core<2.0dev,>=1.1.0 in /opt/conda/lib/python3.7/site-packages (from google-cloud-bigquery==1.25.0) (1.7.1)\n",
      "Requirement already satisfied: google-api-core<2.0dev,>=1.15.0 in /opt/conda/lib/python3.7/site-packages (from google-cloud-bigquery==1.25.0) (1.30.0)\n",
      "Requirement already satisfied: google-auth<2.0dev,>=1.9.0 in /opt/conda/lib/python3.7/site-packages (from google-cloud-bigquery==1.25.0) (1.32.1)\n",
      "Collecting google-resumable-media<0.6dev,>=0.5.0\n",
      "  Downloading google_resumable_media-0.5.1-py2.py3-none-any.whl (38 kB)\n",
      "Requirement already satisfied: protobuf>=3.6.0 in /opt/conda/lib/python3.7/site-packages (from google-cloud-bigquery==1.25.0) (3.16.0)\n",
      "Requirement already satisfied: six<2.0.0dev,>=1.13.0 in /opt/conda/lib/python3.7/site-packages (from google-cloud-bigquery==1.25.0) (1.16.0)\n",
      "Requirement already satisfied: packaging>=14.3 in /opt/conda/lib/python3.7/site-packages (from google-api-core<2.0dev,>=1.15.0->google-cloud-bigquery==1.25.0) (21.0)\n",
      "Requirement already satisfied: setuptools>=40.3.0 in /opt/conda/lib/python3.7/site-packages (from google-api-core<2.0dev,>=1.15.0->google-cloud-bigquery==1.25.0) (49.6.0.post20210108)\n",
      "Requirement already satisfied: pytz in /opt/conda/lib/python3.7/site-packages (from google-api-core<2.0dev,>=1.15.0->google-cloud-bigquery==1.25.0) (2021.1)\n",
      "Requirement already satisfied: requests<3.0.0dev,>=2.18.0 in /opt/conda/lib/python3.7/site-packages (from google-api-core<2.0dev,>=1.15.0->google-cloud-bigquery==1.25.0) (2.25.1)\n",
      "Requirement already satisfied: googleapis-common-protos<2.0dev,>=1.6.0 in /opt/conda/lib/python3.7/site-packages (from google-api-core<2.0dev,>=1.15.0->google-cloud-bigquery==1.25.0) (1.53.0)\n",
      "Requirement already satisfied: rsa<5,>=3.1.4 in /opt/conda/lib/python3.7/site-packages (from google-auth<2.0dev,>=1.9.0->google-cloud-bigquery==1.25.0) (4.7.2)\n",
      "Requirement already satisfied: pyasn1-modules>=0.2.1 in /opt/conda/lib/python3.7/site-packages (from google-auth<2.0dev,>=1.9.0->google-cloud-bigquery==1.25.0) (0.2.7)\n",
      "Requirement already satisfied: cachetools<5.0,>=2.0.0 in /opt/conda/lib/python3.7/site-packages (from google-auth<2.0dev,>=1.9.0->google-cloud-bigquery==1.25.0) (4.2.2)\n",
      "Requirement already satisfied: pyparsing>=2.0.2 in /opt/conda/lib/python3.7/site-packages (from packaging>=14.3->google-api-core<2.0dev,>=1.15.0->google-cloud-bigquery==1.25.0) (2.4.7)\n",
      "Requirement already satisfied: pyasn1<0.5.0,>=0.4.6 in /opt/conda/lib/python3.7/site-packages (from pyasn1-modules>=0.2.1->google-auth<2.0dev,>=1.9.0->google-cloud-bigquery==1.25.0) (0.4.8)\n",
      "Requirement already satisfied: idna<3,>=2.5 in /opt/conda/lib/python3.7/site-packages (from requests<3.0.0dev,>=2.18.0->google-api-core<2.0dev,>=1.15.0->google-cloud-bigquery==1.25.0) (2.10)\n",
      "Requirement already satisfied: urllib3<1.27,>=1.21.1 in /opt/conda/lib/python3.7/site-packages (from requests<3.0.0dev,>=2.18.0->google-api-core<2.0dev,>=1.15.0->google-cloud-bigquery==1.25.0) (1.26.6)\n",
      "Requirement already satisfied: chardet<5,>=3.0.2 in /opt/conda/lib/python3.7/site-packages (from requests<3.0.0dev,>=2.18.0->google-api-core<2.0dev,>=1.15.0->google-cloud-bigquery==1.25.0) (4.0.0)\n",
      "Requirement already satisfied: certifi>=2017.4.17 in /opt/conda/lib/python3.7/site-packages (from requests<3.0.0dev,>=2.18.0->google-api-core<2.0dev,>=1.15.0->google-cloud-bigquery==1.25.0) (2021.5.30)\n",
      "Installing collected packages: google-resumable-media, google-cloud-bigquery\n",
      "\u001b[31mERROR: pip's dependency resolver does not currently take into account all the packages that are installed. This behaviour is the source of the following dependency conflicts.\n",
      "google-cloud-storage 1.40.0 requires google-resumable-media<2.0dev,>=1.3.0, but you have google-resumable-media 0.5.1 which is incompatible.\u001b[0m\n",
      "Successfully installed google-cloud-bigquery-1.25.0 google-resumable-media-0.5.1\n"
     ]
    }
   ],
   "metadata": {}
  },
  {
   "cell_type": "markdown",
   "source": [
    "**Note**: Restart your kernel to use updated packages."
   ],
   "metadata": {}
  },
  {
   "cell_type": "markdown",
   "source": [
    "Kindly ignore the deprecation warnings and incompatibility errors related to google-cloud-storage."
   ],
   "metadata": {}
  },
  {
   "cell_type": "markdown",
   "source": [
    "Specify your project name, bucket name and region in the cell below."
   ],
   "metadata": {}
  },
  {
   "cell_type": "code",
   "execution_count": 3,
   "source": [
    "# The OS module in Python provides functions for interacting with the operating system\r\n",
    "import os\r\n",
    "\r\n",
    "from google.cloud import bigquery"
   ],
   "outputs": [],
   "metadata": {}
  },
  {
   "cell_type": "code",
   "execution_count": 4,
   "source": [
    "# Change with your own bucket and project below:\r\n",
    "BUCKET =  \"qwiklabs-gcp-00-670886b2d331\"\r\n",
    "PROJECT = \"qwiklabs-gcp-00-670886b2d331\"\r\n",
    "REGION = \"us-central1\"\r\n",
    "\r\n",
    "OUTDIR = \"gs://{bucket}/taxifare/data\".format(bucket=BUCKET)\r\n",
    "\r\n",
    "# Store the value of `BUCKET`, `OUTDIR`, `PROJECT`, `REGION` and `TFVERSION` in environment variables.\r\n",
    "os.environ['BUCKET'] = BUCKET\r\n",
    "os.environ['OUTDIR'] = OUTDIR\r\n",
    "os.environ['PROJECT'] = PROJECT\r\n",
    "os.environ['REGION'] = REGION\r\n",
    "os.environ['TFVERSION'] = \"2.3\""
   ],
   "outputs": [],
   "metadata": {}
  },
  {
   "cell_type": "code",
   "execution_count": 5,
   "source": [
    "%%bash\r\n",
    "gcloud config set project $PROJECT\r\n",
    "gcloud config set compute/region $REGION"
   ],
   "outputs": [
    {
     "output_type": "stream",
     "name": "stderr",
     "text": [
      "Updated property [core/project].\n",
      "Updated property [compute/region].\n"
     ]
    }
   ],
   "metadata": {}
  },
  {
   "cell_type": "markdown",
   "source": [
    "## Create BigQuery tables"
   ],
   "metadata": {}
  },
  {
   "cell_type": "markdown",
   "source": [
    "If you have not already created a BigQuery dataset for our data, run the following cell:"
   ],
   "metadata": {}
  },
  {
   "cell_type": "code",
   "execution_count": 6,
   "source": [
    "# Created a BigQuery dataset for our data\r\n",
    "bq = bigquery.Client(project = PROJECT)\r\n",
    "dataset = bigquery.Dataset(bq.dataset(\"taxifare\"))\r\n",
    "\r\n",
    "try:\r\n",
    "    bq.create_dataset(dataset)\r\n",
    "    print(\"Dataset created\")\r\n",
    "except:\r\n",
    "    print(\"Dataset already exists\")"
   ],
   "outputs": [
    {
     "output_type": "stream",
     "name": "stdout",
     "text": [
      "Dataset created\n"
     ]
    }
   ],
   "metadata": {}
  },
  {
   "cell_type": "markdown",
   "source": [
    "Let's create a table with 1 million examples.\n",
    "\n",
    "Note that the order of columns is exactly what was in our CSV files."
   ],
   "metadata": {}
  },
  {
   "cell_type": "code",
   "execution_count": 7,
   "source": [
    "%%bigquery\r\n",
    "\r\n",
    "# Creating the table in our dataset.\r\n",
    "CREATE OR REPLACE TABLE taxifare.feateng_training_data AS\r\n",
    "\r\n",
    "SELECT\r\n",
    "    (tolls_amount + fare_amount) AS fare_amount,\r\n",
    "    pickup_datetime,\r\n",
    "    pickup_longitude AS pickuplon,\r\n",
    "    pickup_latitude AS pickuplat,\r\n",
    "    dropoff_longitude AS dropofflon,\r\n",
    "    dropoff_latitude AS dropofflat,\r\n",
    "    passenger_count*1.0 AS passengers,\r\n",
    "    'unused' AS key\r\n",
    "FROM `nyc-tlc.yellow.trips`\r\n",
    "WHERE ABS(MOD(FARM_FINGERPRINT(CAST(pickup_datetime AS STRING)), 1000)) = 1\r\n",
    "AND\r\n",
    "    trip_distance > 0\r\n",
    "    AND fare_amount >= 2.5\r\n",
    "    AND pickup_longitude > -78\r\n",
    "    AND pickup_longitude < -70\r\n",
    "    AND dropoff_longitude > -78\r\n",
    "    AND dropoff_longitude < -70\r\n",
    "    AND pickup_latitude > 37\r\n",
    "    AND pickup_latitude < 45\r\n",
    "    AND dropoff_latitude > 37\r\n",
    "    AND dropoff_latitude < 45\r\n",
    "    AND passenger_count > 0"
   ],
   "outputs": [
    {
     "output_type": "stream",
     "name": "stderr",
     "text": [
      "Query complete after 0.01s: 100%|██████████| 3/3 [00:00<00:00, 1473.06query/s]                        \n"
     ]
    },
    {
     "output_type": "execute_result",
     "data": {
      "text/html": [
       "<div>\n",
       "<style scoped>\n",
       "    .dataframe tbody tr th:only-of-type {\n",
       "        vertical-align: middle;\n",
       "    }\n",
       "\n",
       "    .dataframe tbody tr th {\n",
       "        vertical-align: top;\n",
       "    }\n",
       "\n",
       "    .dataframe thead th {\n",
       "        text-align: right;\n",
       "    }\n",
       "</style>\n",
       "<table border=\"1\" class=\"dataframe\">\n",
       "  <thead>\n",
       "    <tr style=\"text-align: right;\">\n",
       "      <th></th>\n",
       "    </tr>\n",
       "  </thead>\n",
       "  <tbody>\n",
       "  </tbody>\n",
       "</table>\n",
       "</div>"
      ],
      "text/plain": [
       "Empty DataFrame\n",
       "Columns: []\n",
       "Index: []"
      ]
     },
     "metadata": {},
     "execution_count": 7
    }
   ],
   "metadata": {}
  },
  {
   "cell_type": "markdown",
   "source": [
    "Make the validation dataset be 1/10 the size of the training dataset."
   ],
   "metadata": {}
  },
  {
   "cell_type": "code",
   "execution_count": 8,
   "source": [
    "%%bigquery\r\n",
    "\r\n",
    "# Creating the table in our dataset.\r\n",
    "CREATE OR REPLACE TABLE taxifare.feateng_valid_data AS\r\n",
    "\r\n",
    "SELECT\r\n",
    "    (tolls_amount + fare_amount) AS fare_amount,\r\n",
    "    pickup_datetime,\r\n",
    "    pickup_longitude AS pickuplon,\r\n",
    "    pickup_latitude AS pickuplat,\r\n",
    "    dropoff_longitude AS dropofflon,\r\n",
    "    dropoff_latitude AS dropofflat,\r\n",
    "    passenger_count*1.0 AS passengers,\r\n",
    "    'unused' AS key\r\n",
    "FROM `nyc-tlc.yellow.trips`\r\n",
    "WHERE ABS(MOD(FARM_FINGERPRINT(CAST(pickup_datetime AS STRING)), 10000)) = 2\r\n",
    "AND\r\n",
    "    trip_distance > 0\r\n",
    "    AND fare_amount >= 2.5\r\n",
    "    AND pickup_longitude > -78\r\n",
    "    AND pickup_longitude < -70\r\n",
    "    AND dropoff_longitude > -78\r\n",
    "    AND dropoff_longitude < -70\r\n",
    "    AND pickup_latitude > 37\r\n",
    "    AND pickup_latitude < 45\r\n",
    "    AND dropoff_latitude > 37\r\n",
    "    AND dropoff_latitude < 45\r\n",
    "    AND passenger_count > 0"
   ],
   "outputs": [
    {
     "output_type": "stream",
     "name": "stderr",
     "text": [
      "Query complete after 0.00s: 100%|██████████| 3/3 [00:00<00:00, 1108.63query/s]                        \n"
     ]
    },
    {
     "output_type": "execute_result",
     "data": {
      "text/html": [
       "<div>\n",
       "<style scoped>\n",
       "    .dataframe tbody tr th:only-of-type {\n",
       "        vertical-align: middle;\n",
       "    }\n",
       "\n",
       "    .dataframe tbody tr th {\n",
       "        vertical-align: top;\n",
       "    }\n",
       "\n",
       "    .dataframe thead th {\n",
       "        text-align: right;\n",
       "    }\n",
       "</style>\n",
       "<table border=\"1\" class=\"dataframe\">\n",
       "  <thead>\n",
       "    <tr style=\"text-align: right;\">\n",
       "      <th></th>\n",
       "    </tr>\n",
       "  </thead>\n",
       "  <tbody>\n",
       "  </tbody>\n",
       "</table>\n",
       "</div>"
      ],
      "text/plain": [
       "Empty DataFrame\n",
       "Columns: []\n",
       "Index: []"
      ]
     },
     "metadata": {},
     "execution_count": 8
    }
   ],
   "metadata": {}
  },
  {
   "cell_type": "markdown",
   "source": [
    "## Export the tables as CSV files"
   ],
   "metadata": {}
  },
  {
   "cell_type": "code",
   "execution_count": 9,
   "source": [
    "%%bash\r\n",
    "\r\n",
    "# Deleting the current contents of output directory.\r\n",
    "echo \"Deleting current contents of $OUTDIR\"\r\n",
    "gsutil -m -q rm -rf $OUTDIR\r\n",
    "\r\n",
    "# Fetching the training data to output directory.\r\n",
    "echo \"Extracting training data to $OUTDIR\"\r\n",
    "bq --location=US extract \\\r\n",
    "   --destination_format CSV  \\\r\n",
    "   --field_delimiter \",\" --noprint_header \\\r\n",
    "   taxifare.feateng_training_data \\\r\n",
    "   $OUTDIR/taxi-train-*.csv\r\n",
    "\r\n",
    "echo \"Extracting validation data to $OUTDIR\"\r\n",
    "bq --location=US extract \\\r\n",
    "   --destination_format CSV  \\\r\n",
    "   --field_delimiter \",\" --noprint_header \\\r\n",
    "   taxifare.feateng_valid_data \\\r\n",
    "   $OUTDIR/taxi-valid-*.csv\r\n",
    "\r\n",
    "# The `ls` command will show the content of working directory\r\n",
    "gsutil ls -l $OUTDIR"
   ],
   "outputs": [
    {
     "output_type": "stream",
     "name": "stdout",
     "text": [
      "Deleting current contents of gs://qwiklabs-gcp-00-670886b2d331/taxifare/data\n",
      "Extracting training data to gs://qwiklabs-gcp-00-670886b2d331/taxifare/data\n",
      "Extracting validation data to gs://qwiklabs-gcp-00-670886b2d331/taxifare/data\n",
      "  88345235  2021-08-02T06:39:47Z  gs://qwiklabs-gcp-00-670886b2d331/taxifare/data/taxi-train-000000000000.csv\n",
      "   8725746  2021-08-02T06:39:58Z  gs://qwiklabs-gcp-00-670886b2d331/taxifare/data/taxi-valid-000000000000.csv\n",
      "TOTAL: 2 objects, 97070981 bytes (92.57 MiB)\n"
     ]
    },
    {
     "output_type": "stream",
     "name": "stderr",
     "text": [
      "CommandException: 1 files/objects could not be removed.\n",
      "Waiting on bqjob_r5f25dbe2d913f42_0000017b0596befc_1 ... (23s) Current status: DONE   \n",
      "Waiting on bqjob_r1d1c93bf9aa80da9_0000017b059722f5_1 ... (1s) Current status: DONE   \n"
     ]
    }
   ],
   "metadata": {}
  },
  {
   "cell_type": "code",
   "execution_count": 10,
   "source": [
    "# The `cat` command will outputs the contents of one or more URLs\r\n",
    "# Using `head -2` we are showing only top two output files\r\n",
    "!gsutil cat gs://$BUCKET/taxifare/data/taxi-train-000000000000.csv | head -2"
   ],
   "outputs": [
    {
     "output_type": "stream",
     "name": "stdout",
     "text": [
      "19.7,2010-02-28 13:47:00 UTC,-73.945398,40.813225,-73.988042,40.761502,2,unused\n",
      "18,2013-07-17 06:49:00 UTC,-73.953067,40.80947,-73.987208,40.742962,2,unused\n"
     ]
    }
   ],
   "metadata": {}
  },
  {
   "cell_type": "markdown",
   "source": [
    "## Make code compatible with AI Platform Training Service\n",
    "In order to make our code compatible with AI Platform Training Service we need to make the following changes:\n",
    "\n",
    "1. Upload data to Google Cloud Storage \n",
    "2. Move code into a trainer Python package\n",
    "4. Submit training job with `gcloud` to train on AI Platform"
   ],
   "metadata": {}
  },
  {
   "cell_type": "markdown",
   "source": [
    "### Upload data to Google Cloud Storage (GCS)\n",
    "\n",
    "Cloud services don't have access to our local files, so we need to upload them to a location the Cloud servers can read from. In this case we'll use GCS."
   ],
   "metadata": {}
  },
  {
   "cell_type": "code",
   "execution_count": null,
   "source": [
    "# The `ls` command will show the content of working directory\r\n",
    "!gsutil ls gs://$BUCKET/taxifare/data"
   ],
   "outputs": [
    {
     "output_type": "stream",
     "name": "stdout",
     "text": [
      "gs://qwiklabs-gcp-02-f8065b862ec5/taxifare/data/taxi-train-000000000000.csv\n",
      "gs://qwiklabs-gcp-02-f8065b862ec5/taxifare/data/taxi-valid-000000000000.csv"
     ]
    }
   ],
   "metadata": {}
  },
  {
   "cell_type": "markdown",
   "source": [
    "### Move code into a Python package\n",
    "\n",
    "\n",
    "The first thing to do is to convert your training code snippets into a regular Python package that we will then `pip install` into the Docker container. \n",
    "\n",
    "A Python package is simply a collection of one or more `.py` files along with an `__init__.py` file to identify the containing directory as a package. The `__init__.py` sometimes contains initialization code but for our purposes an empty file suffices."
   ],
   "metadata": {}
  },
  {
   "cell_type": "markdown",
   "source": [
    "#### Create the package directory"
   ],
   "metadata": {}
  },
  {
   "cell_type": "markdown",
   "source": [
    "Our package directory contains 3 files:"
   ],
   "metadata": {}
  },
  {
   "cell_type": "code",
   "execution_count": 11,
   "source": [
    "ls ./taxifare/trainer/"
   ],
   "outputs": [
    {
     "output_type": "stream",
     "name": "stdout",
     "text": [
      "__init__.py  model.py  task.py\n"
     ]
    }
   ],
   "metadata": {}
  },
  {
   "cell_type": "markdown",
   "source": [
    "#### Paste existing code into model.py\n",
    "\n",
    "A Python package requires our code to be in a .py file, as opposed to notebook cells. So, we simply copy and paste our existing code for the previous notebook into a single file."
   ],
   "metadata": {}
  },
  {
   "cell_type": "markdown",
   "source": [
    "In the cell below, we write the contents of the cell into `model.py` packaging the model we \n",
    "developed in the previous labs so that we can deploy it to AI Platform Training Service.  "
   ],
   "metadata": {}
  },
  {
   "cell_type": "code",
   "execution_count": 18,
   "source": [
    "%%writefile ./taxifare/trainer/model.py\r\n",
    "# The datetime module used to work with dates as date objects.\r\n",
    "import datetime\r\n",
    "# The logging module in Python allows writing status messages to a file or any other output streams. \r\n",
    "import logging\r\n",
    "# The OS module in Python provides functions for interacting with the operating system\r\n",
    "import os\r\n",
    "# The shutil module in Python provides many functions of high-level operations on files and collections of files.\r\n",
    "# This module helps in automating process of copying and removal of files and directories.\r\n",
    "import shutil\r\n",
    "\r\n",
    "# Here we'll import data processing libraries like Numpy and Tensorflow\r\n",
    "import numpy as np\r\n",
    "import tensorflow as tf\r\n",
    "\r\n",
    "from tensorflow.keras import activations\r\n",
    "from tensorflow.keras import callbacks\r\n",
    "from tensorflow.keras import layers\r\n",
    "from tensorflow.keras import models\r\n",
    "\r\n",
    "from tensorflow import feature_column as fc\r\n",
    "\r\n",
    "logging.info(tf.version.VERSION)\r\n",
    "\r\n",
    "\r\n",
    "# Defining the feature names into a list `CSV_COLUMNS`\r\n",
    "CSV_COLUMNS = [\r\n",
    "        'fare_amount',\r\n",
    "        'pickup_datetime',\r\n",
    "        'pickup_longitude',\r\n",
    "        'pickup_latitude',\r\n",
    "        'dropoff_longitude',\r\n",
    "        'dropoff_latitude',\r\n",
    "        'passenger_count',\r\n",
    "        'key',\r\n",
    "]\r\n",
    "LABEL_COLUMN = 'fare_amount'\r\n",
    "# Defining the default values into a list `DEFAULTS`\r\n",
    "DEFAULTS = [[0.0], ['na'], [0.0], [0.0], [0.0], [0.0], [0.0], ['na']]\r\n",
    "DAYS = ['Sun', 'Mon', 'Tue', 'Wed', 'Thu', 'Fri', 'Sat']\r\n",
    "\r\n",
    "\r\n",
    "def features_and_labels(row_data):\r\n",
    "    for unwanted_col in ['key']:\r\n",
    "        row_data.pop(unwanted_col)\r\n",
    "# The .pop() method will return item and drop from frame.\r\n",
    "    label = row_data.pop(LABEL_COLUMN)\r\n",
    "    return row_data, label\r\n",
    "\r\n",
    "\r\n",
    "def load_dataset(pattern, batch_size, num_repeat):\r\n",
    "# The tf.data.experimental.make_csv_dataset() method reads CSV files into a dataset\r\n",
    "    dataset = tf.data.experimental.make_csv_dataset(\r\n",
    "        file_pattern=pattern,\r\n",
    "        batch_size=batch_size,\r\n",
    "        column_names=CSV_COLUMNS,\r\n",
    "        column_defaults=DEFAULTS,\r\n",
    "        num_epochs=num_repeat,\r\n",
    "    )\r\n",
    "# The `map()` function executes a specified function for each item in an iterable.\r\n",
    "# The item is sent to the function as a parameter.\r\n",
    "    return dataset.map(features_and_labels)\r\n",
    "\r\n",
    "\r\n",
    "def create_train_dataset(pattern, batch_size):\r\n",
    "    dataset = load_dataset(pattern, batch_size, num_repeat=None)\r\n",
    "# The `prefetch()` method will start a background thread to populate a ordered buffer that acts like a queue, so that downstream pipeline stages need not block.\r\n",
    "    return dataset.prefetch(1)\r\n",
    "\r\n",
    "\r\n",
    "def create_eval_dataset(pattern, batch_size):\r\n",
    "    dataset = load_dataset(pattern, batch_size, num_repeat=1)\r\n",
    "# The `prefetch()` method will start a background thread to populate a ordered buffer that acts like a queue, so that downstream pipeline stages need not block.\r\n",
    "    return dataset.prefetch(1)\r\n",
    "\r\n",
    "\r\n",
    "def parse_datetime(s):\r\n",
    "    if type(s) is not str:\r\n",
    "        s = s.numpy().decode('utf-8')\r\n",
    "    return datetime.datetime.strptime(s, \"%Y-%m-%d %H:%M:%S %Z\")\r\n",
    "\r\n",
    "\r\n",
    "def euclidean(params):\r\n",
    "    lon1, lat1, lon2, lat2 = params\r\n",
    "    londiff = lon2 - lon1\r\n",
    "    latdiff = lat2 - lat1\r\n",
    "    return tf.sqrt(londiff*londiff + latdiff*latdiff)\r\n",
    "\r\n",
    "\r\n",
    "def get_dayofweek(s):\r\n",
    "    ts = parse_datetime(s)\r\n",
    "    return DAYS[ts.weekday()]\r\n",
    "\r\n",
    "\r\n",
    "@tf.function\r\n",
    "def dayofweek(ts_in):\r\n",
    "    return tf.map_fn(\r\n",
    "        lambda s: tf.py_function(get_dayofweek, inp=[s], Tout=tf.string),\r\n",
    "        ts_in\r\n",
    "    )\r\n",
    "\r\n",
    "\r\n",
    "@tf.function\r\n",
    "def fare_thresh(x):\r\n",
    "    return 60 * activations.relu(x)\r\n",
    "\r\n",
    "\r\n",
    "def transform(inputs, NUMERIC_COLS, STRING_COLS, nbuckets):\r\n",
    "    # Pass-through columns\r\n",
    "    transformed = inputs.copy()\r\n",
    "    del transformed['pickup_datetime']\r\n",
    "\r\n",
    "    feature_columns = {\r\n",
    "        colname: fc.numeric_column(colname)\r\n",
    "        for colname in NUMERIC_COLS\r\n",
    "    }\r\n",
    "\r\n",
    "    # Scaling longitude from range [-70, -78] to [0, 1]\r\n",
    "    for lon_col in ['pickup_longitude', 'dropoff_longitude']:\r\n",
    "        transformed[lon_col] = layers.Lambda(\r\n",
    "            lambda x: (x + 78)/8.0,\r\n",
    "            name='scale_{}'.format(lon_col)\r\n",
    "        )(inputs[lon_col])\r\n",
    "\r\n",
    "    # Scaling latitude from range [37, 45] to [0, 1]\r\n",
    "    for lat_col in ['pickup_latitude', 'dropoff_latitude']:\r\n",
    "        transformed[lat_col] = layers.Lambda(\r\n",
    "            lambda x: (x - 37)/8.0,\r\n",
    "            name='scale_{}'.format(lat_col)\r\n",
    "        )(inputs[lat_col])\r\n",
    "\r\n",
    "    # Adding Euclidean dist (no need to be accurate: NN will calibrate it)\r\n",
    "    transformed['euclidean'] = layers.Lambda(euclidean, name='euclidean')([\r\n",
    "        inputs['pickup_longitude'],\r\n",
    "        inputs['pickup_latitude'],\r\n",
    "        inputs['dropoff_longitude'],\r\n",
    "        inputs['dropoff_latitude']\r\n",
    "    ])\r\n",
    "    feature_columns['euclidean'] = fc.numeric_column('euclidean')\r\n",
    "\r\n",
    "    # hour of day from timestamp of form '2010-02-08 09:17:00+00:00'\r\n",
    "    transformed['hourofday'] = layers.Lambda(\r\n",
    "        lambda x: tf.strings.to_number(\r\n",
    "            tf.strings.substr(x, 11, 2), out_type=tf.dtypes.int32),\r\n",
    "        name='hourofday'\r\n",
    "    )(inputs['pickup_datetime'])\r\n",
    "    feature_columns['hourofday'] = fc.indicator_column(\r\n",
    "        fc.categorical_column_with_identity(\r\n",
    "            'hourofday', num_buckets=24))\r\n",
    "\r\n",
    "    latbuckets = np.linspace(0, 1, nbuckets).tolist()\r\n",
    "    lonbuckets = np.linspace(0, 1, nbuckets).tolist()\r\n",
    "    b_plat = fc.bucketized_column(\r\n",
    "        feature_columns['pickup_latitude'], latbuckets)\r\n",
    "    b_dlat = fc.bucketized_column(\r\n",
    "            feature_columns['dropoff_latitude'], latbuckets)\r\n",
    "    b_plon = fc.bucketized_column(\r\n",
    "            feature_columns['pickup_longitude'], lonbuckets)\r\n",
    "    b_dlon = fc.bucketized_column(\r\n",
    "            feature_columns['dropoff_longitude'], lonbuckets)\r\n",
    "    ploc = fc.crossed_column(\r\n",
    "            [b_plat, b_plon], nbuckets * nbuckets)\r\n",
    "    dloc = fc.crossed_column(\r\n",
    "            [b_dlat, b_dlon], nbuckets * nbuckets)\r\n",
    "    pd_pair = fc.crossed_column([ploc, dloc], nbuckets ** 4)\r\n",
    "    feature_columns['pickup_and_dropoff'] = fc.embedding_column(\r\n",
    "            pd_pair, 100)\r\n",
    "\r\n",
    "    return transformed, feature_columns\r\n",
    "\r\n",
    "\r\n",
    "def rmse(y_true, y_pred):\r\n",
    "    return tf.sqrt(tf.reduce_mean(tf.square(y_pred - y_true)))\r\n",
    "\r\n",
    "\r\n",
    "def build_dnn_model(nbuckets, nnsize, lr):\r\n",
    "    # input layer is all float except for pickup_datetime which is a string\r\n",
    "    STRING_COLS = ['pickup_datetime']\r\n",
    "    NUMERIC_COLS = (\r\n",
    "            set(CSV_COLUMNS) - set([LABEL_COLUMN, 'key']) - set(STRING_COLS)\r\n",
    "    )\r\n",
    "    inputs = {\r\n",
    "        colname: layers.Input(name=colname, shape=(), dtype='float32')\r\n",
    "        for colname in NUMERIC_COLS\r\n",
    "    }\r\n",
    "    inputs.update({\r\n",
    "        colname: layers.Input(name=colname, shape=(), dtype='string')\r\n",
    "        for colname in STRING_COLS\r\n",
    "    })\r\n",
    "\r\n",
    "    # transforms\r\n",
    "    transformed, feature_columns = transform(\r\n",
    "        inputs, NUMERIC_COLS, STRING_COLS, nbuckets=nbuckets)\r\n",
    "    dnn_inputs = layers.DenseFeatures(feature_columns.values())(transformed)\r\n",
    "\r\n",
    "    x = dnn_inputs\r\n",
    "    for layer, nodes in enumerate(nnsize):\r\n",
    "        x = layers.Dense(nodes, activation='relu', name='h{}'.format(layer))(x)\r\n",
    "    output = layers.Dense(1, name='fare')(x)\r\n",
    "\r\n",
    "    model = models.Model(inputs, output)\r\n",
    "    #TODO 1a\r\n",
    "    lr_optimizer = tf.keras.optimizers.Adam(learning_rate=lr)\r\n",
    "    model.compile(optimizer=lr_optimizer, loss='mse', metrics=[rmse, 'mse'])\r\n",
    "    \r\n",
    "    return model\r\n",
    "\r\n",
    "\r\n",
    "def train_and_evaluate(hparams):\r\n",
    "    #TODO 1b\r\n",
    "    batch_size = hparams['batch_size'] \r\n",
    "    nbuckets = hparams['nbuckets'] \r\n",
    "    lr = hparams['lr'] \r\n",
    "    nnsize = hparams['nnsize']\r\n",
    "    eval_data_path = hparams['eval_data_path']\r\n",
    "    num_evals = hparams['num_evals']\r\n",
    "    num_examples_to_train_on = hparams['num_examples_to_train_on']\r\n",
    "    output_dir = hparams['output_dir']\r\n",
    "    train_data_path = hparams['train_data_path']\r\n",
    "\r\n",
    "    timestamp = datetime.datetime.now().strftime('%Y%m%d%H%M%S')\r\n",
    "    savedmodel_dir = os.path.join(output_dir, 'export/savedmodel')\r\n",
    "    model_export_path = os.path.join(savedmodel_dir, timestamp)\r\n",
    "    checkpoint_path = os.path.join(output_dir, 'checkpoints')\r\n",
    "    tensorboard_path = os.path.join(output_dir, 'tensorboard')\r\n",
    "\r\n",
    "    if tf.io.gfile.exists(output_dir):\r\n",
    "        tf.io.gfile.rmtree(output_dir)\r\n",
    "\r\n",
    "    model = build_dnn_model(nbuckets, nnsize, lr)\r\n",
    "    logging.info(model.summary())\r\n",
    "\r\n",
    "    trainds = create_train_dataset(train_data_path, batch_size)\r\n",
    "    evalds = create_eval_dataset(eval_data_path, batch_size)\r\n",
    "\r\n",
    "    steps_per_epoch = num_examples_to_train_on // (batch_size * num_evals)\r\n",
    "\r\n",
    "    checkpoint_cb = callbacks.ModelCheckpoint(\r\n",
    "        checkpoint_path,\r\n",
    "        save_weights_only=True,\r\n",
    "        verbose=1\r\n",
    "    )\r\n",
    "    tensorboard_cb = callbacks.TensorBoard(tensorboard_path)\r\n",
    "\r\n",
    "    history = model.fit(\r\n",
    "        trainds,\r\n",
    "        validation_data=evalds,\r\n",
    "        epochs=num_evals,\r\n",
    "        steps_per_epoch=max(1, steps_per_epoch),\r\n",
    "        verbose=2,  # 0=silent, 1=progress bar, 2=one line per epoch\r\n",
    "        callbacks=[checkpoint_cb, tensorboard_cb]\r\n",
    "    )\r\n",
    "\r\n",
    "    # Exporting the model with default serving function.\r\n",
    "    tf.saved_model.save(model, model_export_path)\r\n",
    "    return history\r\n"
   ],
   "outputs": [
    {
     "output_type": "stream",
     "name": "stdout",
     "text": [
      "Overwriting ./taxifare/trainer/model.py\n"
     ]
    }
   ],
   "metadata": {}
  },
  {
   "cell_type": "markdown",
   "source": [
    "### Modify code to read data from and write checkpoint files to GCS \n",
    "\n",
    "If you look closely above, you'll notice a new function, `train_and_evaluate` that wraps the code that actually trains the model. This allows us to parametrize the training by passing a dictionary of parameters to this function (e.g, `batch_size`, `num_examples_to_train_on`, `train_data_path` etc.)\n",
    "\n",
    "This is useful because the output directory, data paths and number of train steps will be different depending on whether we're training locally or in the cloud. Parametrizing allows us to use the same code for both.\n",
    "\n",
    "We specify these parameters at run time via the command line. Which means we need to add code to parse command line parameters and invoke `train_and_evaluate()` with those params. This is the job of the `task.py` file. "
   ],
   "metadata": {}
  },
  {
   "cell_type": "code",
   "execution_count": 19,
   "source": [
    "%%writefile taxifare/trainer/task.py\r\n",
    "# The argparse module makes it easy to write user-friendly command-line interfaces. It parses the defined arguments from the `sys.argv`.\r\n",
    "# The argparse module also automatically generates help & usage messages and issues errors when users give the program invalid arguments.\r\n",
    "import argparse\r\n",
    "\r\n",
    "from trainer import model\r\n",
    "\r\n",
    "\r\n",
    "# Write an `task.py` file for adding code to parse command line parameters and invoke `train_and_evaluate()` with those parameters. \r\n",
    "if __name__ == '__main__':\r\n",
    "    parser = argparse.ArgumentParser()\r\n",
    "    parser.add_argument(\r\n",
    "        \"--batch_size\",\r\n",
    "        help=\"Batch size for training steps\",\r\n",
    "        type=int,\r\n",
    "        default=32\r\n",
    "    )\r\n",
    "    parser.add_argument(\r\n",
    "        \"--eval_data_path\",\r\n",
    "        help=\"GCS location pattern of eval files\",\r\n",
    "        required=True\r\n",
    "    )\r\n",
    "    parser.add_argument(\r\n",
    "        \"--nnsize\",\r\n",
    "        help=\"Hidden layer sizes (provide space-separated sizes)\",\r\n",
    "        nargs=\"+\",\r\n",
    "        type=int,\r\n",
    "        default=[32, 8, 4]\r\n",
    "    )\r\n",
    "    parser.add_argument(\r\n",
    "        \"--nbuckets\",\r\n",
    "        help=\"Number of buckets to divide lat and lon with\",\r\n",
    "        type=int,\r\n",
    "        default=10\r\n",
    "    )\r\n",
    "    parser.add_argument(\r\n",
    "        \"--lr\",\r\n",
    "        help = \"learning rate for optimizer\",\r\n",
    "        type = float,\r\n",
    "        default = 0.001\r\n",
    "    )\r\n",
    "    parser.add_argument(\r\n",
    "        \"--num_evals\",\r\n",
    "        help=\"Number of times to evaluate model on eval data training.\",\r\n",
    "        type=int,\r\n",
    "        default=5\r\n",
    "    )\r\n",
    "    parser.add_argument(\r\n",
    "        \"--num_examples_to_train_on\",\r\n",
    "       \r\n",
    "    )\r\n",
    "    parser.add_argument(\r\n",
    "       help=\"Number of examples to train on.\",\r\n",
    "        type=int,\r\n",
    "        default=100  \"--output_dir\",\r\n",
    "        help=\"GCS location to write checkpoints and export models\",\r\n",
    "        required=True\r\n",
    "    )\r\n",
    "    parser.add_argument(\r\n",
    "        \"--train_data_path\",\r\n",
    "        help=\"GCS location pattern of train files containing eval URLs\",\r\n",
    "        required=True\r\n",
    "    )\r\n",
    "    parser.add_argument(\r\n",
    "        \"--job-dir\",\r\n",
    "        help=\"this model ignores this field, but it is required by gcloud\",\r\n",
    "        default=\"junk\"\r\n",
    "    )\r\n",
    "    args = parser.parse_args()\r\n",
    "    hparams = args.__dict__\r\n",
    "    hparams.pop(\"job-dir\", None)\r\n",
    "\r\n",
    "    model.train_and_evaluate(hparams)\r\n"
   ],
   "outputs": [
    {
     "output_type": "stream",
     "name": "stdout",
     "text": [
      "Overwriting taxifare/trainer/task.py\n"
     ]
    }
   ],
   "metadata": {}
  },
  {
   "cell_type": "markdown",
   "source": [
    "### Run trainer module package locally\n",
    "\n",
    "Now we can test our training code locally as follows using the local test data. We'll run a very small training job over a single file with a small batch size and one eval step."
   ],
   "metadata": {}
  },
  {
   "cell_type": "code",
   "execution_count": 20,
   "source": [
    "%%bash\r\n",
    "\r\n",
    "# Testing our training code locally\r\n",
    "EVAL_DATA_PATH=./taxifare/tests/data/taxi-valid*\r\n",
    "TRAIN_DATA_PATH=./taxifare/tests/data/taxi-train*\r\n",
    "OUTPUT_DIR=./taxifare-model\r\n",
    "\r\n",
    "test ${OUTPUT_DIR} && rm -rf ${OUTPUT_DIR}\r\n",
    "export PYTHONPATH=${PYTHONPATH}:${PWD}/taxifare\r\n",
    "    \r\n",
    "python3 -m trainer.task \\\r\n",
    "--eval_data_path $EVAL_DATA_PATH \\\r\n",
    "--output_dir $OUTPUT_DIR \\\r\n",
    "--train_data_path $TRAIN_DATA_PATH \\\r\n",
    "--batch_size 5 \\\r\n",
    "--num_examples_to_train_on 100 \\\r\n",
    "--num_evals 1 \\\r\n",
    "--nbuckets 10 \\\r\n",
    "--lr 0.001 \\\r\n",
    "--nnsize 32 8 4"
   ],
   "outputs": [
    {
     "output_type": "stream",
     "name": "stdout",
     "text": [
      "Model: \"functional_1\"\n",
      "__________________________________________________________________________________________________\n",
      "Layer (type)                    Output Shape         Param #     Connected to                     \n",
      "==================================================================================================\n",
      "dropoff_latitude (InputLayer)   [(None,)]            0                                            \n",
      "__________________________________________________________________________________________________\n",
      "dropoff_longitude (InputLayer)  [(None,)]            0                                            \n",
      "__________________________________________________________________________________________________\n",
      "pickup_longitude (InputLayer)   [(None,)]            0                                            \n",
      "__________________________________________________________________________________________________\n",
      "pickup_latitude (InputLayer)    [(None,)]            0                                            \n",
      "__________________________________________________________________________________________________\n",
      "pickup_datetime (InputLayer)    [(None,)]            0                                            \n",
      "__________________________________________________________________________________________________\n",
      "scale_dropoff_latitude (Lambda) (None,)              0           dropoff_latitude[0][0]           \n",
      "__________________________________________________________________________________________________\n",
      "scale_dropoff_longitude (Lambda (None,)              0           dropoff_longitude[0][0]          \n",
      "__________________________________________________________________________________________________\n",
      "euclidean (Lambda)              (None,)              0           pickup_longitude[0][0]           \n",
      "                                                                 pickup_latitude[0][0]            \n",
      "                                                                 dropoff_longitude[0][0]          \n",
      "                                                                 dropoff_latitude[0][0]           \n",
      "__________________________________________________________________________________________________\n",
      "hourofday (Lambda)              (None,)              0           pickup_datetime[0][0]            \n",
      "__________________________________________________________________________________________________\n",
      "passenger_count (InputLayer)    [(None,)]            0                                            \n",
      "__________________________________________________________________________________________________\n",
      "scale_pickup_latitude (Lambda)  (None,)              0           pickup_latitude[0][0]            \n",
      "__________________________________________________________________________________________________\n",
      "scale_pickup_longitude (Lambda) (None,)              0           pickup_longitude[0][0]           \n",
      "__________________________________________________________________________________________________\n",
      "dense_features (DenseFeatures)  (None, 130)          1000000     scale_dropoff_latitude[0][0]     \n",
      "                                                                 scale_dropoff_longitude[0][0]    \n",
      "                                                                 euclidean[0][0]                  \n",
      "                                                                 hourofday[0][0]                  \n",
      "                                                                 passenger_count[0][0]            \n",
      "                                                                 scale_pickup_latitude[0][0]      \n",
      "                                                                 scale_pickup_longitude[0][0]     \n",
      "__________________________________________________________________________________________________\n",
      "h0 (Dense)                      (None, 32)           4192        dense_features[0][0]             \n",
      "__________________________________________________________________________________________________\n",
      "h1 (Dense)                      (None, 8)            264         h0[0][0]                         \n",
      "__________________________________________________________________________________________________\n",
      "h2 (Dense)                      (None, 4)            36          h1[0][0]                         \n",
      "__________________________________________________________________________________________________\n",
      "fare (Dense)                    (None, 1)            5           h2[0][0]                         \n",
      "==================================================================================================\n",
      "Total params: 1,004,497\n",
      "Trainable params: 1,004,497\n",
      "Non-trainable params: 0\n",
      "__________________________________________________________________________________________________\n",
      "\n",
      "Epoch 00001: saving model to ./taxifare-model/checkpoints\n",
      "20/20 - 2s - loss: 188.9302 - rmse: 12.7467 - mse: 188.9302 - val_loss: 223.6723 - val_rmse: 13.9403 - val_mse: 223.6723\n"
     ]
    },
    {
     "output_type": "stream",
     "name": "stderr",
     "text": [
      "2021-08-02 06:59:38.066130: I tensorflow/core/platform/profile_utils/cpu_utils.cc:104] CPU Frequency: 2200205000 Hz\n",
      "2021-08-02 06:59:38.066446: I tensorflow/compiler/xla/service/service.cc:168] XLA service 0x5606c6958020 initialized for platform Host (this does not guarantee that XLA will be used). Devices:\n",
      "2021-08-02 06:59:38.066490: I tensorflow/compiler/xla/service/service.cc:176]   StreamExecutor device (0): Host, Default Version\n",
      "2021-08-02 06:59:38.067236: I tensorflow/core/common_runtime/process_util.cc:146] Creating new thread pool with default inter op setting: 2. Tune using inter_op_parallelism_threads for best performance.\n",
      "2021-08-02 06:59:38.451815: I tensorflow/core/profiler/lib/profiler_session.cc:164] Profiler session started.\n",
      "2021-08-02 06:59:40.332476: I tensorflow/core/profiler/lib/profiler_session.cc:164] Profiler session started.\n",
      "WARNING:tensorflow:From /opt/conda/lib/python3.7/site-packages/tensorflow/python/ops/summary_ops_v2.py:1277: stop (from tensorflow.python.eager.profiler) is deprecated and will be removed after 2020-07-01.\n",
      "Instructions for updating:\n",
      "use `tf.profiler.experimental.stop` instead.\n",
      "WARNING:tensorflow:From /opt/conda/lib/python3.7/site-packages/tensorflow/python/ops/summary_ops_v2.py:1277: stop (from tensorflow.python.eager.profiler) is deprecated and will be removed after 2020-07-01.\n",
      "Instructions for updating:\n",
      "use `tf.profiler.experimental.stop` instead.\n",
      "2021-08-02 06:59:40.367994: I tensorflow/core/profiler/rpc/client/save_profile.cc:176] Creating directory: ./taxifare-model/tensorboard/train/plugins/profile/2021_08_02_06_59_40\n",
      "2021-08-02 06:59:40.370164: I tensorflow/core/profiler/rpc/client/save_profile.cc:182] Dumped gzipped tool data for trace.json.gz to ./taxifare-model/tensorboard/train/plugins/profile/2021_08_02_06_59_40/tensorflow-2-3-20210802-115548.trace.json.gz\n",
      "2021-08-02 06:59:40.383505: I tensorflow/core/profiler/rpc/client/save_profile.cc:176] Creating directory: ./taxifare-model/tensorboard/train/plugins/profile/2021_08_02_06_59_40\n",
      "2021-08-02 06:59:40.384019: I tensorflow/core/profiler/rpc/client/save_profile.cc:182] Dumped gzipped tool data for memory_profile.json.gz to ./taxifare-model/tensorboard/train/plugins/profile/2021_08_02_06_59_40/tensorflow-2-3-20210802-115548.memory_profile.json.gz\n",
      "2021-08-02 06:59:40.384618: I tensorflow/python/profiler/internal/profiler_wrapper.cc:111] Creating directory: ./taxifare-model/tensorboard/train/plugins/profile/2021_08_02_06_59_40Dumped tool data for xplane.pb to ./taxifare-model/tensorboard/train/plugins/profile/2021_08_02_06_59_40/tensorflow-2-3-20210802-115548.xplane.pb\n",
      "Dumped tool data for overview_page.pb to ./taxifare-model/tensorboard/train/plugins/profile/2021_08_02_06_59_40/tensorflow-2-3-20210802-115548.overview_page.pb\n",
      "Dumped tool data for input_pipeline.pb to ./taxifare-model/tensorboard/train/plugins/profile/2021_08_02_06_59_40/tensorflow-2-3-20210802-115548.input_pipeline.pb\n",
      "Dumped tool data for tensorflow_stats.pb to ./taxifare-model/tensorboard/train/plugins/profile/2021_08_02_06_59_40/tensorflow-2-3-20210802-115548.tensorflow_stats.pb\n",
      "Dumped tool data for kernel_stats.pb to ./taxifare-model/tensorboard/train/plugins/profile/2021_08_02_06_59_40/tensorflow-2-3-20210802-115548.kernel_stats.pb\n",
      "\n",
      "WARNING:tensorflow:Callbacks method `on_train_batch_end` is slow compared to the batch time (batch time: 0.0126s vs `on_train_batch_end` time: 0.0400s). Check your callbacks.\n",
      "WARNING:tensorflow:Callbacks method `on_train_batch_end` is slow compared to the batch time (batch time: 0.0126s vs `on_train_batch_end` time: 0.0400s). Check your callbacks.\n",
      "WARNING:tensorflow:From /opt/conda/lib/python3.7/site-packages/tensorflow/python/training/tracking/tracking.py:111: Model.state_updates (from tensorflow.python.keras.engine.training) is deprecated and will be removed in a future version.\n",
      "Instructions for updating:\n",
      "This property should not be used in TensorFlow 2.0, as updates are applied automatically.\n",
      "WARNING:tensorflow:From /opt/conda/lib/python3.7/site-packages/tensorflow/python/training/tracking/tracking.py:111: Model.state_updates (from tensorflow.python.keras.engine.training) is deprecated and will be removed in a future version.\n",
      "Instructions for updating:\n",
      "This property should not be used in TensorFlow 2.0, as updates are applied automatically.\n",
      "2021-08-02 06:59:42.943932: W tensorflow/python/util/util.cc:348] Sets are not currently considered sequences, but this may change in the future, so consider avoiding using them.\n",
      "WARNING:tensorflow:From /opt/conda/lib/python3.7/site-packages/tensorflow/python/training/tracking/tracking.py:111: Layer.updates (from tensorflow.python.keras.engine.base_layer) is deprecated and will be removed in a future version.\n",
      "Instructions for updating:\n",
      "This property should not be used in TensorFlow 2.0, as updates are applied automatically.\n",
      "WARNING:tensorflow:From /opt/conda/lib/python3.7/site-packages/tensorflow/python/training/tracking/tracking.py:111: Layer.updates (from tensorflow.python.keras.engine.base_layer) is deprecated and will be removed in a future version.\n",
      "Instructions for updating:\n",
      "This property should not be used in TensorFlow 2.0, as updates are applied automatically.\n"
     ]
    }
   ],
   "metadata": {}
  },
  {
   "cell_type": "markdown",
   "source": [
    "### Run your training package on Cloud AI Platform\n",
    "\n",
    "Once the code works in standalone mode locally, you can run it on Cloud AI Platform. To submit to the Cloud we use [`gcloud ai-platform jobs submit training [jobname]`](https://cloud.google.com/sdk/gcloud/reference/ml-engine/jobs/submit/training) and simply specify some additional parameters for AI Platform Training Service:\n",
    "- jobid: A unique identifier for the Cloud job. We usually append system time to ensure uniqueness\n",
    "- region: Cloud region to train in. See [here](https://cloud.google.com/ml-engine/docs/tensorflow/regions) for supported AI Platform Training Service regions\n",
    "\n",
    "The arguments before `-- \\` are for AI Platform Training Service.\n",
    "The arguments after `-- \\` are sent to our `task.py`.\n",
    "\n",
    "Because this is on the entire dataset, it will take a while. You can monitor the job from the GCP console in the Cloud AI Platform section."
   ],
   "metadata": {}
  },
  {
   "cell_type": "code",
   "execution_count": 21,
   "source": [
    "%%bash\r\n",
    "\r\n",
    "# Output directory and jobID\r\n",
    "OUTDIR=gs://${BUCKET}/taxifare/trained_model_$(date -u +%y%m%d_%H%M%S)\r\n",
    "JOBID=taxifare_$(date -u +%y%m%d_%H%M%S)\r\n",
    "echo ${OUTDIR} ${REGION} ${JOBID}\r\n",
    "gsutil -m rm -rf ${OUTDIR}\r\n",
    "\r\n",
    "# Model and training hyperparameters\r\n",
    "BATCH_SIZE=50\r\n",
    "NUM_EXAMPLES_TO_TRAIN_ON=100\r\n",
    "NUM_EVALS=100\r\n",
    "NBUCKETS=10\r\n",
    "LR=0.001\r\n",
    "NNSIZE=\"32 8 4\"\r\n",
    "\r\n",
    "# GCS paths\r\n",
    "GCS_PROJECT_PATH=gs://$BUCKET/taxifare\r\n",
    "DATA_PATH=$GCS_PROJECT_PATH/data\r\n",
    "TRAIN_DATA_PATH=$DATA_PATH/taxi-train*\r\n",
    "EVAL_DATA_PATH=$DATA_PATH/taxi-valid*\r\n",
    "\r\n",
    "#TODO 2\r\n",
    "gcloud ai-platform jobs submit training $JOBID \\\r\n",
    "    --module-name=trainer.task \\\r\n",
    "    --package-path=taxifare/trainer \\\r\n",
    "    --staging-bucket=gs://${BUCKET} \\\r\n",
    "    --python-version=3.7 \\\r\n",
    "    --runtime-version=${TFVERSION} \\\r\n",
    "    --region=${REGION} \\\r\n",
    "    -- \\\r\n",
    "    --eval_data_path $EVAL_DATA_PATH \\\r\n",
    "    --output_dir $OUTDIR \\\r\n",
    "    --train_data_path $TRAIN_DATA_PATH \\\r\n",
    "    --batch_size $BATCH_SIZE \\\r\n",
    "    --num_examples_to_train_on $NUM_EXAMPLES_TO_TRAIN_ON \\\r\n",
    "    --num_evals $NUM_EVALS \\\r\n",
    "    --nbuckets $NBUCKETS \\\r\n",
    "    --lr $LR \\\r\n",
    "    --nnsize $NNSIZE "
   ],
   "outputs": [
    {
     "output_type": "stream",
     "name": "stdout",
     "text": [
      "gs://qwiklabs-gcp-00-670886b2d331/taxifare/trained_model_210802_070554 us-central1 taxifare_210802_070554\n",
      "jobId: taxifare_210802_070554\n",
      "state: QUEUED\n"
     ]
    },
    {
     "output_type": "stream",
     "name": "stderr",
     "text": [
      "CommandException: 1 files/objects could not be removed.\n",
      "Job [taxifare_210802_070554] submitted successfully.\n",
      "Your job is still active. You may view the status of your job with the command\n",
      "\n",
      "  $ gcloud ai-platform jobs describe taxifare_210802_070554\n",
      "\n",
      "or continue streaming the logs with the command\n",
      "\n",
      "  $ gcloud ai-platform jobs stream-logs taxifare_210802_070554\n"
     ]
    }
   ],
   "metadata": {}
  },
  {
   "cell_type": "markdown",
   "source": [
    "Copyright 2020 Google Inc. Licensed under the Apache License, Version 2.0 (the \"License\"); you may not use this file except in compliance with the License. You may obtain a copy of the License at http://www.apache.org/licenses/LICENSE-2.0 Unless required by applicable law or agreed to in writing, software distributed under the License is distributed on an \"AS IS\" BASIS, WITHOUT WARRANTIES OR CONDITIONS OF ANY KIND, either express or implied. See the License for the specific language governing permissions and limitations under the License"
   ],
   "metadata": {}
  }
 ],
 "metadata": {
  "environment": {
   "name": "tf2-gpu.2-3.m75",
   "type": "gcloud",
   "uri": "gcr.io/deeplearning-platform-release/tf2-gpu.2-3:m75"
  },
  "kernelspec": {
   "display_name": "Python 3",
   "language": "python",
   "name": "python3"
  },
  "language_info": {
   "codemirror_mode": {
    "name": "ipython",
    "version": 3
   },
   "file_extension": ".py",
   "mimetype": "text/x-python",
   "name": "python",
   "nbconvert_exporter": "python",
   "pygments_lexer": "ipython3",
   "version": "3.7.10"
  }
 },
 "nbformat": 4,
 "nbformat_minor": 4
}