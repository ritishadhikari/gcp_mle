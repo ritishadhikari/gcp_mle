{
 "cells": [
  {
   "cell_type": "markdown",
   "source": [
    "# Introduction to Feature Columns \n",
    "**Learning Objectives**\n",
    "\n",
    "\n",
    "1. Load a CSV file using [Pandas](https://pandas.pydata.org/)\n",
    "2. Create an input pipeline using tf.data\n",
    "3. Create multiple types of feature columns\n",
    "\n",
    " \n",
    "\n",
    "## Introduction \n",
    "\n",
    "In this notebook, you classify structured data (e.g. tabular data in a CSV file) using [feature columns](https://www.tensorflow.org/tutorials/structured_data/feature_columns).  Feature columns serve as a bridge to map from columns in a CSV file to features used to train a model. In a subsequent lab, we will use [Keras](https://www.tensorflow.org/guide/keras) to define the model.\n",
    "\n",
    "Each learning objective will correspond to a __#TODO__ in the [student lab notebook](../labs/feat.cols_tf.data.ipynb) -- try to complete that notebook first before reviewing this solution notebook. \n"
   ],
   "metadata": {
    "colab_type": "text",
    "id": "rNdWfPXCjTjY"
   }
  },
  {
   "cell_type": "markdown",
   "source": [
    "## The Dataset\n",
    "\n",
    "We will use a small [dataset](https://archive.ics.uci.edu/ml/datasets/heart+Disease) provided by the Cleveland Clinic Foundation for Heart Disease. There are several hundred rows in the CSV. Each row describes   a patient, and each column describes an attribute. We will use this information to predict whether a patient has heart disease, which in this dataset is a binary classification task.\n",
    "\n",
    "Below is a [description](https://archive.ics.uci.edu/ml/machine-learning-databases/heart-disease/heart-disease.names) of this dataset. Notice there are both numeric and categorical columns.\n",
    "\n",
    ">Column| Description| Feature Type | Data Type\n",
    ">------------|--------------------|----------------------|-----------------\n",
    ">Age | Age in years | Numerical | integer\n",
    ">Sex | (1 = male; 0 = female) | Categorical | integer\n",
    ">CP | Chest pain type (0, 1, 2, 3, 4) | Categorical | integer\n",
    ">Trestbpd | Resting blood pressure (in mm Hg on admission to the hospital) | Numerical | integer\n",
    ">Chol | Serum cholestoral in mg/dl | Numerical | integer\n",
    ">FBS | (fasting blood sugar > 120 mg/dl) (1 = true; 0 = false) | Categorical | integer\n",
    ">RestECG | Resting electrocardiographic results (0, 1, 2) | Categorical | integer\n",
    ">Thalach | Maximum heart rate achieved | Numerical | integer\n",
    ">Exang | Exercise induced angina (1 = yes; 0 = no) | Categorical | integer\n",
    ">Oldpeak | ST depression induced by exercise relative to rest | Numerical | float\n",
    ">Slope | The slope of the peak exercise ST segment | Numerical | integer\n",
    ">CA | Number of major vessels (0-3) colored by flourosopy | Numerical | integer\n",
    ">Thal | 3 = normal; 6 = fixed defect; 7 = reversable defect | Categorical | string\n",
    ">Target | Diagnosis of heart disease (1 = true; 0 = false) | Classification | integer"
   ],
   "metadata": {
    "colab_type": "text",
    "id": "K1y4OHpGgss7"
   }
  },
  {
   "cell_type": "markdown",
   "source": [
    "## Import TensorFlow and other libraries"
   ],
   "metadata": {
    "colab_type": "text",
    "id": "VxyBFc_kKazA"
   }
  },
  {
   "cell_type": "code",
   "execution_count": 73,
   "source": [
    "# You can use any Python source file as a module by executing an import statement in some other Python source file.\n",
    "# The import statement combines two operations; it searches for the named module, then it binds the results of that search\n",
    "# to a name in the local scope.\n",
    "import numpy as np\n",
    "import pandas as pd\n",
    "# Import matplotlib to visualize the model\n",
    "import matplotlib.pyplot as plt\n",
    "# Seaborn is a Python data visualization library based on matplotlib\n",
    "import seaborn as sns\n",
    "# %matplotlib inline sets the backend of matplotlib to the `inline` backend\n",
    "%matplotlib inline\n",
    "\n",
    "import tensorflow as tf\n",
    "\n",
    "\n",
    "from tensorflow import feature_column\n",
    "from tensorflow.keras import layers\n",
    "from sklearn.model_selection import train_test_split\n",
    "\n",
    "print(\"TensorFlow version: \",tf.version.VERSION)\n",
    "\n",
    "import warnings\n",
    "warnings.filterwarnings(action='ignore')\n"
   ],
   "outputs": [
    {
     "output_type": "stream",
     "name": "stdout",
     "text": [
      "TensorFlow version:  2.3.3\n"
     ]
    }
   ],
   "metadata": {
    "colab": {},
    "colab_type": "code",
    "id": "9dEreb4QKizj"
   }
  },
  {
   "cell_type": "markdown",
   "source": [
    "## Lab Task 1: Use Pandas to create a dataframe\n",
    "\n",
    "[Pandas](https://pandas.pydata.org/) is a Python library with many helpful utilities for loading and working with structured data. We will use Pandas to download the dataset from a URL, and load it into a dataframe."
   ],
   "metadata": {
    "colab_type": "text",
    "id": "KCEhSZcULZ9n"
   }
  },
  {
   "cell_type": "code",
   "execution_count": 2,
   "source": [
    "URL = 'https://storage.googleapis.com/download.tensorflow.org/data/heart.csv'\n",
    "# Read a comma-separated values (csv) file into a DataFrame using the read_csv() function\n",
    "dataframe = pd.read_csv(URL)\n",
    "# Get the first five rows using the head() method\n",
    "dataframe.head()"
   ],
   "outputs": [
    {
     "output_type": "execute_result",
     "data": {
      "text/plain": [
       "   age  sex  cp  trestbps  chol  fbs  restecg  thalach  exang  oldpeak  slope  \\\n",
       "0   63    1   1       145   233    1        2      150      0      2.3      3   \n",
       "1   67    1   4       160   286    0        2      108      1      1.5      2   \n",
       "2   67    1   4       120   229    0        2      129      1      2.6      2   \n",
       "3   37    1   3       130   250    0        0      187      0      3.5      3   \n",
       "4   41    0   2       130   204    0        2      172      0      1.4      1   \n",
       "\n",
       "   ca        thal  target  \n",
       "0   0       fixed       0  \n",
       "1   3      normal       1  \n",
       "2   2  reversible       0  \n",
       "3   0      normal       0  \n",
       "4   0      normal       0  "
      ],
      "text/html": [
       "<div>\n",
       "<style scoped>\n",
       "    .dataframe tbody tr th:only-of-type {\n",
       "        vertical-align: middle;\n",
       "    }\n",
       "\n",
       "    .dataframe tbody tr th {\n",
       "        vertical-align: top;\n",
       "    }\n",
       "\n",
       "    .dataframe thead th {\n",
       "        text-align: right;\n",
       "    }\n",
       "</style>\n",
       "<table border=\"1\" class=\"dataframe\">\n",
       "  <thead>\n",
       "    <tr style=\"text-align: right;\">\n",
       "      <th></th>\n",
       "      <th>age</th>\n",
       "      <th>sex</th>\n",
       "      <th>cp</th>\n",
       "      <th>trestbps</th>\n",
       "      <th>chol</th>\n",
       "      <th>fbs</th>\n",
       "      <th>restecg</th>\n",
       "      <th>thalach</th>\n",
       "      <th>exang</th>\n",
       "      <th>oldpeak</th>\n",
       "      <th>slope</th>\n",
       "      <th>ca</th>\n",
       "      <th>thal</th>\n",
       "      <th>target</th>\n",
       "    </tr>\n",
       "  </thead>\n",
       "  <tbody>\n",
       "    <tr>\n",
       "      <th>0</th>\n",
       "      <td>63</td>\n",
       "      <td>1</td>\n",
       "      <td>1</td>\n",
       "      <td>145</td>\n",
       "      <td>233</td>\n",
       "      <td>1</td>\n",
       "      <td>2</td>\n",
       "      <td>150</td>\n",
       "      <td>0</td>\n",
       "      <td>2.3</td>\n",
       "      <td>3</td>\n",
       "      <td>0</td>\n",
       "      <td>fixed</td>\n",
       "      <td>0</td>\n",
       "    </tr>\n",
       "    <tr>\n",
       "      <th>1</th>\n",
       "      <td>67</td>\n",
       "      <td>1</td>\n",
       "      <td>4</td>\n",
       "      <td>160</td>\n",
       "      <td>286</td>\n",
       "      <td>0</td>\n",
       "      <td>2</td>\n",
       "      <td>108</td>\n",
       "      <td>1</td>\n",
       "      <td>1.5</td>\n",
       "      <td>2</td>\n",
       "      <td>3</td>\n",
       "      <td>normal</td>\n",
       "      <td>1</td>\n",
       "    </tr>\n",
       "    <tr>\n",
       "      <th>2</th>\n",
       "      <td>67</td>\n",
       "      <td>1</td>\n",
       "      <td>4</td>\n",
       "      <td>120</td>\n",
       "      <td>229</td>\n",
       "      <td>0</td>\n",
       "      <td>2</td>\n",
       "      <td>129</td>\n",
       "      <td>1</td>\n",
       "      <td>2.6</td>\n",
       "      <td>2</td>\n",
       "      <td>2</td>\n",
       "      <td>reversible</td>\n",
       "      <td>0</td>\n",
       "    </tr>\n",
       "    <tr>\n",
       "      <th>3</th>\n",
       "      <td>37</td>\n",
       "      <td>1</td>\n",
       "      <td>3</td>\n",
       "      <td>130</td>\n",
       "      <td>250</td>\n",
       "      <td>0</td>\n",
       "      <td>0</td>\n",
       "      <td>187</td>\n",
       "      <td>0</td>\n",
       "      <td>3.5</td>\n",
       "      <td>3</td>\n",
       "      <td>0</td>\n",
       "      <td>normal</td>\n",
       "      <td>0</td>\n",
       "    </tr>\n",
       "    <tr>\n",
       "      <th>4</th>\n",
       "      <td>41</td>\n",
       "      <td>0</td>\n",
       "      <td>2</td>\n",
       "      <td>130</td>\n",
       "      <td>204</td>\n",
       "      <td>0</td>\n",
       "      <td>2</td>\n",
       "      <td>172</td>\n",
       "      <td>0</td>\n",
       "      <td>1.4</td>\n",
       "      <td>1</td>\n",
       "      <td>0</td>\n",
       "      <td>normal</td>\n",
       "      <td>0</td>\n",
       "    </tr>\n",
       "  </tbody>\n",
       "</table>\n",
       "</div>"
      ]
     },
     "metadata": {},
     "execution_count": 2
    }
   ],
   "metadata": {
    "colab": {},
    "colab_type": "code",
    "id": "REZ57BXCLdfG"
   }
  },
  {
   "cell_type": "code",
   "execution_count": 3,
   "source": [
    "# Get a concise summary of a DataFrame\n",
    "dataframe.info()"
   ],
   "outputs": [
    {
     "output_type": "stream",
     "name": "stdout",
     "text": [
      "<class 'pandas.core.frame.DataFrame'>\n",
      "RangeIndex: 303 entries, 0 to 302\n",
      "Data columns (total 14 columns):\n",
      " #   Column    Non-Null Count  Dtype  \n",
      "---  ------    --------------  -----  \n",
      " 0   age       303 non-null    int64  \n",
      " 1   sex       303 non-null    int64  \n",
      " 2   cp        303 non-null    int64  \n",
      " 3   trestbps  303 non-null    int64  \n",
      " 4   chol      303 non-null    int64  \n",
      " 5   fbs       303 non-null    int64  \n",
      " 6   restecg   303 non-null    int64  \n",
      " 7   thalach   303 non-null    int64  \n",
      " 8   exang     303 non-null    int64  \n",
      " 9   oldpeak   303 non-null    float64\n",
      " 10  slope     303 non-null    int64  \n",
      " 11  ca        303 non-null    int64  \n",
      " 12  thal      303 non-null    object \n",
      " 13  target    303 non-null    int64  \n",
      "dtypes: float64(1), int64(12), object(1)\n",
      "memory usage: 33.3+ KB\n"
     ]
    }
   ],
   "metadata": {}
  },
  {
   "cell_type": "markdown",
   "source": [
    "## Split the dataframe into train, validation, and test\n",
    "\n",
    "The dataset we downloaded was a single CSV file. As a best practice, we will split this into train, validation, and test sets."
   ],
   "metadata": {}
  },
  {
   "cell_type": "code",
   "execution_count": 4,
   "source": [
    "# TODO 1a\n",
    "# Create test, validation and train samples from one dataframe with pandas.\n",
    "train, test = train_test_split(dataframe, test_size=0.2)\n",
    "train, val = train_test_split(train, test_size=0.2)\n",
    "print(len(train), 'train examples')\n",
    "print(len(val), 'validation examples')\n",
    "print(len(test), 'test examples')"
   ],
   "outputs": [
    {
     "output_type": "stream",
     "name": "stdout",
     "text": [
      "193 train examples\n",
      "49 validation examples\n",
      "61 test examples\n"
     ]
    }
   ],
   "metadata": {}
  },
  {
   "cell_type": "markdown",
   "source": [
    "## Lab Task 2: Create an input pipeline using tf.data\n",
    "\n",
    "Next, we will wrap the dataframes with [tf.data](https://www.tensorflow.org/datasets). This will enable us  to use feature columns as a bridge to map from the columns in the Pandas dataframe to features used to train a model. If we were working with a very large CSV file (so large that it does not fit into memory), we would use tf.data to read it from disk directly. That is not covered in this lab."
   ],
   "metadata": {}
  },
  {
   "cell_type": "code",
   "execution_count": 5,
   "source": [
    "# A utility method to create a tf.data dataset from a Pandas Dataframe\r\n",
    "def df_to_dataset(dataframe, shuffle=True, batch_size=32):\r\n",
    "  dataframe = dataframe.copy()\r\n",
    "  labels = dataframe.pop('target')\r\n",
    "  ds = tf.data.Dataset.from_tensor_slices((dict(dataframe), labels)) # TODO 2a\r\n",
    "  if shuffle:\r\n",
    "    ds = ds.shuffle(buffer_size=len(dataframe))\r\n",
    "  ds = ds.batch(batch_size)\r\n",
    "  return ds"
   ],
   "outputs": [],
   "metadata": {}
  },
  {
   "cell_type": "code",
   "execution_count": 6,
   "source": [
    "# A small batch size is used for demonstration purposes\r\n",
    "batch_size = 5"
   ],
   "outputs": [],
   "metadata": {}
  },
  {
   "cell_type": "code",
   "execution_count": 7,
   "source": [
    "# TODO 2b\r\n",
    "train_ds = df_to_dataset(train, batch_size=batch_size)\r\n",
    "val_ds = df_to_dataset(val, shuffle=False, batch_size=batch_size)\r\n",
    "test_ds = df_to_dataset(test, shuffle=False, batch_size=batch_size)"
   ],
   "outputs": [],
   "metadata": {}
  },
  {
   "cell_type": "code",
   "execution_count": 19,
   "source": [
    "for feature, label in train_ds.take(1):\r\n",
    "    for key, value in feature.items(): \r\n",
    "        print(f\"{key:20}:{value.numpy()}\")"
   ],
   "outputs": [
    {
     "output_type": "stream",
     "name": "stdout",
     "text": [
      "age                 :[51 55 69 59 64]\n",
      "sex                 :[1 1 1 1 1]\n",
      "cp                  :[3 4 1 1 1]\n",
      "trestbps            :[125 140 160 170 110]\n",
      "chol                :[245 217 234 288 211]\n",
      "fbs                 :[1 0 1 0 0]\n",
      "restecg             :[2 0 2 2 2]\n",
      "thalach             :[166 111 131 159 144]\n",
      "exang               :[0 1 0 0 1]\n",
      "oldpeak             :[2.4 5.6 0.1 0.2 1.8]\n",
      "slope               :[2 3 2 2 2]\n",
      "ca                  :[0 0 1 0 0]\n",
      "thal                :[b'normal' b'reversible' b'normal' b'reversible' b'normal']\n"
     ]
    }
   ],
   "metadata": {}
  },
  {
   "cell_type": "markdown",
   "source": [
    "## Understand the input pipeline\n",
    "\n",
    "Now that we have created the input pipeline, let's call it to see the format of the data it returns. We have used a small batch size to keep the output readable."
   ],
   "metadata": {}
  },
  {
   "cell_type": "code",
   "execution_count": 20,
   "source": [
    "# If you don't use take(1), all elements will eventually be fetched\r\n",
    "for feature_batch, label_batch in train_ds.take(1):\r\n",
    "  print('Every feature:', list(feature_batch.keys()))\r\n",
    "  print('A batch of ages:', feature_batch['age'])\r\n",
    "  print('A batch of targets:', label_batch)"
   ],
   "outputs": [
    {
     "output_type": "stream",
     "name": "stdout",
     "text": [
      "Every feature: ['age', 'sex', 'cp', 'trestbps', 'chol', 'fbs', 'restecg', 'thalach', 'exang', 'oldpeak', 'slope', 'ca', 'thal']\n",
      "A batch of ages: tf.Tensor([41 56 59 71 67], shape=(5,), dtype=int64)\n",
      "A batch of targets: tf.Tensor([0 1 0 0 0], shape=(5,), dtype=int64)\n"
     ]
    }
   ],
   "metadata": {}
  },
  {
   "cell_type": "markdown",
   "source": [
    "## Lab Task 3: Demonstrate several types of feature column\n",
    "TensorFlow provides many types of feature columns. In this section, we will create several types of feature columns, and demonstrate how they transform a column from the dataframe."
   ],
   "metadata": {
    "colab_type": "text",
    "id": "ttIvgLRaNoOQ"
   }
  },
  {
   "cell_type": "code",
   "execution_count": 34,
   "source": [
    "# We will use this batch to demonstrate several types of feature columns\r\n",
    "# Only Features, no lables, hence index of 0\r\n",
    "example_batch = next(iter(train_ds))[0]"
   ],
   "outputs": [],
   "metadata": {}
  },
  {
   "cell_type": "code",
   "execution_count": 35,
   "source": [
    "example_batch"
   ],
   "outputs": [
    {
     "output_type": "execute_result",
     "data": {
      "text/plain": [
       "{'age': <tf.Tensor: shape=(5,), dtype=int64, numpy=array([64, 56, 39, 60, 60])>,\n",
       " 'sex': <tf.Tensor: shape=(5,), dtype=int64, numpy=array([0, 1, 1, 1, 0])>,\n",
       " 'cp': <tf.Tensor: shape=(5,), dtype=int64, numpy=array([4, 2, 3, 4, 4])>,\n",
       " 'trestbps': <tf.Tensor: shape=(5,), dtype=int64, numpy=array([180, 130, 140, 145, 150])>,\n",
       " 'chol': <tf.Tensor: shape=(5,), dtype=int64, numpy=array([325, 221, 321, 282, 258])>,\n",
       " 'fbs': <tf.Tensor: shape=(5,), dtype=int64, numpy=array([0, 0, 0, 0, 0])>,\n",
       " 'restecg': <tf.Tensor: shape=(5,), dtype=int64, numpy=array([0, 2, 2, 2, 2])>,\n",
       " 'thalach': <tf.Tensor: shape=(5,), dtype=int64, numpy=array([154, 163, 182, 142, 157])>,\n",
       " 'exang': <tf.Tensor: shape=(5,), dtype=int64, numpy=array([1, 0, 0, 1, 0])>,\n",
       " 'oldpeak': <tf.Tensor: shape=(5,), dtype=float64, numpy=array([0. , 0. , 0. , 2.8, 2.6])>,\n",
       " 'slope': <tf.Tensor: shape=(5,), dtype=int64, numpy=array([1, 1, 1, 2, 2])>,\n",
       " 'ca': <tf.Tensor: shape=(5,), dtype=int64, numpy=array([0, 0, 0, 2, 2])>,\n",
       " 'thal': <tf.Tensor: shape=(5,), dtype=string, numpy=\n",
       " array([b'normal', b'reversible', b'normal', b'reversible', b'reversible'],\n",
       "       dtype=object)>}"
      ]
     },
     "metadata": {},
     "execution_count": 35
    }
   ],
   "metadata": {}
  },
  {
   "cell_type": "code",
   "execution_count": null,
   "source": [],
   "outputs": [],
   "metadata": {}
  },
  {
   "cell_type": "code",
   "execution_count": 36,
   "source": [
    "# A utility method to create a feature column\r\n",
    "# and to transform a batch of data\r\n",
    "def demo(feature_column):\r\n",
    "  feature_layer = layers.DenseFeatures(feature_column)\r\n",
    "  print(feature_layer(example_batch).numpy())"
   ],
   "outputs": [],
   "metadata": {}
  },
  {
   "cell_type": "markdown",
   "source": [
    "### Numeric columns\n",
    "The output of a feature column becomes the input to the model. A [numeric column](https://www.tensorflow.org/api_docs/python/tf/feature_column/numeric_column) is the simplest type of column. It is used to represent real valued features. When using this column, your model will receive the column value from the dataframe unchanged."
   ],
   "metadata": {
    "colab_type": "text",
    "id": "Q7OEKe82N-Qb"
   }
  },
  {
   "cell_type": "code",
   "execution_count": 37,
   "source": [
    "# Create a numeric feature column out of `age`\r\n",
    "age = feature_column.numeric_column(\"age\")\r\n",
    "# tf.feature_column.numeric_column\r\n",
    "print(age)"
   ],
   "outputs": [
    {
     "output_type": "stream",
     "name": "stdout",
     "text": [
      "NumericColumn(key='age', shape=(1,), default_value=None, dtype=tf.float32, normalizer_fn=None)\n"
     ]
    }
   ],
   "metadata": {}
  },
  {
   "cell_type": "code",
   "execution_count": 38,
   "source": [
    "age = feature_column.numeric_column(\"age\")\r\n",
    "tf.feature_column.numeric_column\r\n",
    "print(age)"
   ],
   "outputs": [
    {
     "output_type": "stream",
     "name": "stdout",
     "text": [
      "NumericColumn(key='age', shape=(1,), default_value=None, dtype=tf.float32, normalizer_fn=None)\n"
     ]
    }
   ],
   "metadata": {}
  },
  {
   "cell_type": "markdown",
   "source": [
    "### Let's have a look at the output:\n",
    "\n",
    "#### key='age'\n",
    "A unique string identifying the input feature. It is used as the column name and the dictionary key for feature parsing configs, feature Tensor objects, and feature columns.\n",
    "\n",
    "#### shape=(1,)\n",
    "In the heart disease dataset, most columns from the dataframe are numeric.  Recall that tensors have a rank.  \"Age\" is a \"vector\" or \"rank-1\" tensor, which is like a list of values. A vector has 1-axis, thus the shape will always look like this:  shape=(3,), where 3 is a scalar (or single number) and with 1-axis.  \n",
    "\n",
    "#### default_value=None\n",
    "A single value compatible with dtype or an iterable of values compatible with dtype which the column takes on during tf.Example parsing if data is missing. A default value of None will cause tf.io.parse_example to fail if an example does not contain this column. If a single value is provided, the same value will be applied as the default value for every item. If an iterable of values is provided, the shape of the default_value should be equal to the given shape.\n",
    "\n",
    "#### dtype=tf.float32\n",
    "defines the type of values. Default value is tf.float32. Must be a non-quantized, real integer or floating point type.\n",
    "\n",
    "\n",
    "#### normalizer_fn=None\n",
    "If not None, a function that can be used to normalize the value of the tensor after default_value is applied for parsing. Normalizer function takes the input Tensor as its argument, and returns the output Tensor. (e.g. lambda x: (x - 3.0) / 4.2). Please note that even though the most common use case of this function is normalization, it can be used for any kind of Tensorflow transformations.\n"
   ],
   "metadata": {
    "colab_type": "text",
    "id": "7a6ddSyzOKpq"
   }
  },
  {
   "cell_type": "code",
   "execution_count": 61,
   "source": [
    "feature_layer=layers.DenseFeatures(\r\n",
    "    feature_columns=feature_column.numeric_column(\r\n",
    "        key='age'\r\n",
    "    )\r\n",
    ")\r\n",
    "feature_layer(example_batch).numpy()"
   ],
   "outputs": [
    {
     "output_type": "stream",
     "name": "stdout",
     "text": [
      "WARNING:tensorflow:Layer dense_features_8 is casting an input tensor from dtype float64 to the layer's dtype of float32, which is new behavior in TensorFlow 2.  The layer has dtype float32 because its dtype defaults to floatx.\n",
      "\n",
      "If you intended to run this layer in float32, you can safely ignore this warning. If in doubt, this warning is likely only an issue if you are porting a TensorFlow 1.X model to TensorFlow 2.\n",
      "\n",
      "To change all layers to have dtype float64 by default, call `tf.keras.backend.set_floatx('float64')`. To change just this layer, pass dtype='float64' to the layer constructor. If you are the author of this layer, you can disable autocasting by passing autocast=False to the base Layer constructor.\n",
      "\n"
     ]
    },
    {
     "output_type": "execute_result",
     "data": {
      "text/plain": [
       "array([[64.],\n",
       "       [56.],\n",
       "       [39.],\n",
       "       [60.],\n",
       "       [60.]], dtype=float32)"
      ]
     },
     "metadata": {},
     "execution_count": 61
    }
   ],
   "metadata": {}
  },
  {
   "cell_type": "code",
   "execution_count": null,
   "source": [],
   "outputs": [],
   "metadata": {}
  },
  {
   "cell_type": "code",
   "execution_count": 44,
   "source": [
    "# Demo of a numeric feature column out of `age`\r\n",
    "demo(age)"
   ],
   "outputs": [
    {
     "output_type": "stream",
     "name": "stdout",
     "text": [
      "WARNING:tensorflow:Layer dense_features_1 is casting an input tensor from dtype float64 to the layer's dtype of float32, which is new behavior in TensorFlow 2.  The layer has dtype float32 because its dtype defaults to floatx.\n",
      "\n",
      "If you intended to run this layer in float32, you can safely ignore this warning. If in doubt, this warning is likely only an issue if you are porting a TensorFlow 1.X model to TensorFlow 2.\n",
      "\n",
      "To change all layers to have dtype float64 by default, call `tf.keras.backend.set_floatx('float64')`. To change just this layer, pass dtype='float64' to the layer constructor. If you are the author of this layer, you can disable autocasting by passing autocast=False to the base Layer constructor.\n",
      "\n",
      "[[64.]\n",
      " [56.]\n",
      " [39.]\n",
      " [60.]\n",
      " [60.]]\n"
     ]
    }
   ],
   "metadata": {}
  },
  {
   "cell_type": "markdown",
   "source": [
    "### Bucketized columns\n",
    "Often, you don't want to feed a number directly into the model, but instead split its value into different categories based on numerical ranges. Consider raw data that represents a person's age. Instead of representing age as a numeric column, we could split the age into several buckets using a [bucketized column](https://www.tensorflow.org/api_docs/python/tf/feature_column/bucketized_column). Notice the one-hot values below describe which age range each row matches."
   ],
   "metadata": {
    "colab_type": "text",
    "id": "IcSxUoYgOlA1"
   }
  },
  {
   "cell_type": "code",
   "execution_count": 59,
   "source": [
    "feature_layer=layers.DenseFeatures(\r\n",
    "    feature_columns=feature_column.bucketized_column(\r\n",
    "        source_column=feature_column.numeric_column(\r\n",
    "            key='age'\r\n",
    "        ), boundaries=[18,25,30,35,40,45,50,55,60,65]\r\n",
    "    )\r\n",
    ")"
   ],
   "outputs": [],
   "metadata": {}
  },
  {
   "cell_type": "code",
   "execution_count": 60,
   "source": [
    "feature_layer(example_batch)"
   ],
   "outputs": [
    {
     "output_type": "stream",
     "name": "stdout",
     "text": [
      "WARNING:tensorflow:Layer dense_features_7 is casting an input tensor from dtype float64 to the layer's dtype of float32, which is new behavior in TensorFlow 2.  The layer has dtype float32 because its dtype defaults to floatx.\n",
      "\n",
      "If you intended to run this layer in float32, you can safely ignore this warning. If in doubt, this warning is likely only an issue if you are porting a TensorFlow 1.X model to TensorFlow 2.\n",
      "\n",
      "To change all layers to have dtype float64 by default, call `tf.keras.backend.set_floatx('float64')`. To change just this layer, pass dtype='float64' to the layer constructor. If you are the author of this layer, you can disable autocasting by passing autocast=False to the base Layer constructor.\n",
      "\n"
     ]
    },
    {
     "output_type": "execute_result",
     "data": {
      "text/plain": [
       "<tf.Tensor: shape=(5, 11), dtype=float32, numpy=\n",
       "array([[0., 0., 0., 0., 0., 0., 0., 0., 0., 1., 0.],\n",
       "       [0., 0., 0., 0., 0., 0., 0., 0., 1., 0., 0.],\n",
       "       [0., 0., 0., 0., 1., 0., 0., 0., 0., 0., 0.],\n",
       "       [0., 0., 0., 0., 0., 0., 0., 0., 0., 1., 0.],\n",
       "       [0., 0., 0., 0., 0., 0., 0., 0., 0., 1., 0.]], dtype=float32)>"
      ]
     },
     "metadata": {},
     "execution_count": 60
    }
   ],
   "metadata": {}
  },
  {
   "cell_type": "code",
   "execution_count": 74,
   "source": [
    "# Create a bucketized feature column out of `age` with the following boundaries and demo it.\r\n",
    "age_buckets = tf.feature_column.bucketized_column(age, boundaries=[18, 25, 30, 35, 40, 45, 50, 55, 60, 65])\r\n",
    "demo(age_buckets) # TODO 3a\r\n"
   ],
   "outputs": [
    {
     "output_type": "stream",
     "name": "stdout",
     "text": [
      "WARNING:tensorflow:Layer dense_features_23 is casting an input tensor from dtype float64 to the layer's dtype of float32, which is new behavior in TensorFlow 2.  The layer has dtype float32 because it's dtype defaults to floatx.\n",
      "\n",
      "If you intended to run this layer in float32, you can safely ignore this warning. If in doubt, this warning is likely only an issue if you are porting a TensorFlow 1.X model to TensorFlow 2.\n",
      "\n",
      "To change all layers to have dtype float64 by default, call `tf.keras.backend.set_floatx('float64')`. To change just this layer, pass dtype='float64' to the layer constructor. If you are the author of this layer, you can disable autocasting by passing autocast=False to the base Layer constructor.\n",
      "\n",
      "[[0. 0. 0. 0. 0. 0. 0. 0. 0. 1. 0.]\n",
      " [0. 0. 0. 0. 0. 0. 0. 0. 1. 0. 0.]\n",
      " [0. 0. 0. 0. 0. 0. 0. 0. 1. 0. 0.]\n",
      " [0. 0. 0. 0. 0. 0. 0. 1. 0. 0. 0.]\n",
      " [0. 0. 0. 0. 0. 0. 0. 1. 0. 0. 0.]]\n"
     ]
    }
   ],
   "metadata": {
    "colab": {},
    "colab_type": "code",
    "id": "wJ4Wt3SAOpTQ"
   }
  },
  {
   "cell_type": "markdown",
   "source": [
    "### Categorical columns\n",
    "In this dataset, thal is represented as a string (e.g. 'fixed', 'normal', or 'reversible'). We cannot feed strings directly to a model. Instead, we must first map them to numeric values. The categorical vocabulary columns provide a way to represent strings as a one-hot vector (much like you have seen above with age buckets). The vocabulary can be passed as a list using [categorical_column_with_vocabulary_list](https://www.tensorflow.org/api_docs/python/tf/feature_column/categorical_column_with_vocabulary_list), or loaded from a file using [categorical_column_with_vocabulary_file](https://www.tensorflow.org/api_docs/python/tf/feature_column/categorical_column_with_vocabulary_file)."
   ],
   "metadata": {
    "colab_type": "text",
    "id": "r1tArzewPb-b"
   }
  },
  {
   "cell_type": "code",
   "execution_count": 55,
   "source": [
    "feature_layer=layers.DenseFeatures(\r\n",
    "    feature_columns=feature_column.indicator_column(\r\n",
    "        categorical_column=feature_column.categorical_column_with_vocabulary_list(\r\n",
    "            key='thal',vocabulary_list=['fixed','normal','reversible']\r\n",
    "        )\r\n",
    "    )\r\n",
    ")\r\n",
    "\r\n",
    "feature_layer(example_batch).numpy()"
   ],
   "outputs": [
    {
     "output_type": "stream",
     "name": "stdout",
     "text": [
      "WARNING:tensorflow:Layer dense_features_3 is casting an input tensor from dtype float64 to the layer's dtype of float32, which is new behavior in TensorFlow 2.  The layer has dtype float32 because its dtype defaults to floatx.\n",
      "\n",
      "If you intended to run this layer in float32, you can safely ignore this warning. If in doubt, this warning is likely only an issue if you are porting a TensorFlow 1.X model to TensorFlow 2.\n",
      "\n",
      "To change all layers to have dtype float64 by default, call `tf.keras.backend.set_floatx('float64')`. To change just this layer, pass dtype='float64' to the layer constructor. If you are the author of this layer, you can disable autocasting by passing autocast=False to the base Layer constructor.\n",
      "\n"
     ]
    },
    {
     "output_type": "execute_result",
     "data": {
      "text/plain": [
       "array([[0., 1., 0.],\n",
       "       [0., 0., 1.],\n",
       "       [0., 1., 0.],\n",
       "       [0., 0., 1.],\n",
       "       [0., 0., 1.]], dtype=float32)"
      ]
     },
     "metadata": {},
     "execution_count": 55
    }
   ],
   "metadata": {}
  },
  {
   "cell_type": "code",
   "execution_count": 56,
   "source": [
    "# Create a categorical vocabulary column out of the\r\n",
    "# above mentioned categories with the key specified as `thal`.\r\n",
    "thal = tf.feature_column.categorical_column_with_vocabulary_list(\r\n",
    "      'thal', ['fixed', 'normal', 'reversible'])\r\n",
    "\r\n",
    "# Create an indicator column out of the created categorical column.\r\n",
    "thal_one_hot = tf.feature_column.indicator_column(thal)\r\n",
    "demo(thal_one_hot)"
   ],
   "outputs": [
    {
     "output_type": "stream",
     "name": "stdout",
     "text": [
      "WARNING:tensorflow:Layer dense_features_4 is casting an input tensor from dtype float64 to the layer's dtype of float32, which is new behavior in TensorFlow 2.  The layer has dtype float32 because its dtype defaults to floatx.\n",
      "\n",
      "If you intended to run this layer in float32, you can safely ignore this warning. If in doubt, this warning is likely only an issue if you are porting a TensorFlow 1.X model to TensorFlow 2.\n",
      "\n",
      "To change all layers to have dtype float64 by default, call `tf.keras.backend.set_floatx('float64')`. To change just this layer, pass dtype='float64' to the layer constructor. If you are the author of this layer, you can disable autocasting by passing autocast=False to the base Layer constructor.\n",
      "\n",
      "[[0. 1. 0.]\n",
      " [0. 0. 1.]\n",
      " [0. 1. 0.]\n",
      " [0. 0. 1.]\n",
      " [0. 0. 1.]]\n"
     ]
    }
   ],
   "metadata": {
    "colab": {},
    "colab_type": "code",
    "id": "DJ6QnSHkPtOC"
   }
  },
  {
   "cell_type": "markdown",
   "source": [
    "In a more complex dataset, many columns would be categorical (e.g. strings). Feature columns are most valuable when working with categorical data. Although there is only one categorical column in this dataset, we will use it to demonstrate several important types of feature columns that you could use when working with other datasets."
   ],
   "metadata": {
    "colab_type": "text",
    "id": "dxQloQ9jOoXL"
   }
  },
  {
   "cell_type": "markdown",
   "source": [
    "### Embedding columns\n",
    "Suppose instead of having just a few possible strings, we have thousands (or more) values per category. For a number of reasons, as the number of categories grow large, it becomes infeasible to train a neural network using one-hot encodings. We can use an embedding column to overcome this limitation. Instead of representing the data as a one-hot vector of many dimensions, an [embedding column](https://www.tensorflow.org/api_docs/python/tf/feature_column/embedding_column) represents that data as a lower-dimensional, dense vector in which each cell can contain any number, not just 0 or 1. The size of the embedding (8, in the example below) is a parameter that must be tuned.\n",
    "\n",
    "Key point: using an embedding column is best when a categorical column has many possible values. We are using one here for demonstration purposes, so you have a complete example you can modify for a different dataset in the future."
   ],
   "metadata": {
    "colab_type": "text",
    "id": "LEFPjUr6QmwS"
   }
  },
  {
   "cell_type": "code",
   "execution_count": 58,
   "source": [
    "feature_layer=layers.DenseFeatures(\r\n",
    "    feature_columns=feature_column.embedding_column(\r\n",
    "        categorical_column=feature_column.categorical_column_with_vocabulary_list(\r\n",
    "            key='thal',vocabulary_list=['fixed', 'normal', 'reversible']\r\n",
    "        ),dimension=8\r\n",
    "    )\r\n",
    ")\r\n",
    "\r\n",
    "feature_layer(example_batch).numpy()"
   ],
   "outputs": [
    {
     "output_type": "stream",
     "name": "stdout",
     "text": [
      "WARNING:tensorflow:Layer dense_features_6 is casting an input tensor from dtype float64 to the layer's dtype of float32, which is new behavior in TensorFlow 2.  The layer has dtype float32 because its dtype defaults to floatx.\n",
      "\n",
      "If you intended to run this layer in float32, you can safely ignore this warning. If in doubt, this warning is likely only an issue if you are porting a TensorFlow 1.X model to TensorFlow 2.\n",
      "\n",
      "To change all layers to have dtype float64 by default, call `tf.keras.backend.set_floatx('float64')`. To change just this layer, pass dtype='float64' to the layer constructor. If you are the author of this layer, you can disable autocasting by passing autocast=False to the base Layer constructor.\n",
      "\n"
     ]
    },
    {
     "output_type": "execute_result",
     "data": {
      "text/plain": [
       "array([[ 0.13871521,  0.20146707, -0.66076416, -0.62819934, -0.13495986,\n",
       "        -0.02740627, -0.5286047 ,  0.24878635],\n",
       "       [-0.34165952, -0.25711867,  0.15500169,  0.681417  , -0.29617855,\n",
       "        -0.23055062,  0.3306356 ,  0.08596848],\n",
       "       [ 0.13871521,  0.20146707, -0.66076416, -0.62819934, -0.13495986,\n",
       "        -0.02740627, -0.5286047 ,  0.24878635],\n",
       "       [-0.34165952, -0.25711867,  0.15500169,  0.681417  , -0.29617855,\n",
       "        -0.23055062,  0.3306356 ,  0.08596848],\n",
       "       [-0.34165952, -0.25711867,  0.15500169,  0.681417  , -0.29617855,\n",
       "        -0.23055062,  0.3306356 ,  0.08596848]], dtype=float32)"
      ]
     },
     "metadata": {},
     "execution_count": 58
    }
   ],
   "metadata": {}
  },
  {
   "cell_type": "code",
   "execution_count": 76,
   "source": [
    "# Notice the input to the embedding column is the categorical column\r\n",
    "# we previously created\r\n",
    "# Set the size of the embedding to 8, by using the dimension parameter\r\n",
    "thal_embedding = tf.feature_column.embedding_column(thal, dimension=8)\r\n",
    "demo(thal_embedding)"
   ],
   "outputs": [
    {
     "output_type": "stream",
     "name": "stdout",
     "text": [
      "WARNING:tensorflow:Layer dense_features_25 is casting an input tensor from dtype float64 to the layer's dtype of float32, which is new behavior in TensorFlow 2.  The layer has dtype float32 because it's dtype defaults to floatx.\n",
      "\n",
      "If you intended to run this layer in float32, you can safely ignore this warning. If in doubt, this warning is likely only an issue if you are porting a TensorFlow 1.X model to TensorFlow 2.\n",
      "\n",
      "To change all layers to have dtype float64 by default, call `tf.keras.backend.set_floatx('float64')`. To change just this layer, pass dtype='float64' to the layer constructor. If you are the author of this layer, you can disable autocasting by passing autocast=False to the base Layer constructor.\n",
      "\n",
      "[[ 0.26216975 -0.66194284  0.33328214 -0.09756625  0.20408471  0.57926923\n",
      "  -0.07685163  0.4386801 ]\n",
      " [-0.24602154  0.0877578   0.07975551  0.34634778  0.2708743  -0.6707659\n",
      "  -0.15825593 -0.08179379]\n",
      " [ 0.26216975 -0.66194284  0.33328214 -0.09756625  0.20408471  0.57926923\n",
      "  -0.07685163  0.4386801 ]\n",
      " [-0.24602154  0.0877578   0.07975551  0.34634778  0.2708743  -0.6707659\n",
      "  -0.15825593 -0.08179379]\n",
      " [-0.24602154  0.0877578   0.07975551  0.34634778  0.2708743  -0.6707659\n",
      "  -0.15825593 -0.08179379]]\n"
     ]
    }
   ],
   "metadata": {
    "colab": {},
    "colab_type": "code",
    "id": "hSlohmr2Q_UU"
   }
  },
  {
   "cell_type": "markdown",
   "source": [
    "### Hashed feature columns\r\n",
    "\r\n",
    "Another way to represent a categorical column with a large number of values is to use a [categorical_column_with_hash_bucket](https://www.tensorflow.org/api_docs/python/tf/feature_column/categorical_column_with_hash_bucket). This feature column calculates a hash value of the input, then selects one of the `hash_bucket_size` buckets to encode a string. When using this column, you do not need to provide the vocabulary, and you can choose to make the number of hash_buckets significantly smaller than the number of actual categories to save space.\r\n",
    "\r\n",
    "Key point: An important downside of this technique is that there may be collisions in which different strings are mapped to the same bucket. In practice, this can work well for some datasets regardless."
   ],
   "metadata": {
    "colab_type": "text",
    "id": "urFCAvTVRMpB"
   }
  },
  {
   "cell_type": "code",
   "execution_count": 63,
   "source": [
    "feature_layer=layers.DenseFeatures(\r\n",
    "    feature_columns=feature_column.indicator_column(\r\n",
    "        categorical_column=feature_column.categorical_column_with_hash_bucket(\r\n",
    "            key='thal',hash_bucket_size=1000\r\n",
    "        )\r\n",
    "    )\r\n",
    ")\r\n",
    "feature_layer(example_batch).numpy()"
   ],
   "outputs": [
    {
     "output_type": "stream",
     "name": "stdout",
     "text": [
      "WARNING:tensorflow:Layer dense_features_10 is casting an input tensor from dtype float64 to the layer's dtype of float32, which is new behavior in TensorFlow 2.  The layer has dtype float32 because its dtype defaults to floatx.\n",
      "\n",
      "If you intended to run this layer in float32, you can safely ignore this warning. If in doubt, this warning is likely only an issue if you are porting a TensorFlow 1.X model to TensorFlow 2.\n",
      "\n",
      "To change all layers to have dtype float64 by default, call `tf.keras.backend.set_floatx('float64')`. To change just this layer, pass dtype='float64' to the layer constructor. If you are the author of this layer, you can disable autocasting by passing autocast=False to the base Layer constructor.\n",
      "\n"
     ]
    },
    {
     "output_type": "execute_result",
     "data": {
      "text/plain": [
       "array([[0., 0., 0., ..., 0., 0., 0.],\n",
       "       [0., 0., 0., ..., 0., 0., 0.],\n",
       "       [0., 0., 0., ..., 0., 0., 0.],\n",
       "       [0., 0., 0., ..., 0., 0., 0.],\n",
       "       [0., 0., 0., ..., 0., 0., 0.]], dtype=float32)"
      ]
     },
     "metadata": {},
     "execution_count": 63
    }
   ],
   "metadata": {}
  },
  {
   "cell_type": "code",
   "execution_count": 84,
   "source": [
    "# Create a hashed feature column with `thal` as the key and 1000 hash buckets.\r\n",
    "thal_hashed = tf.feature_column.categorical_column_with_hash_bucket(\r\n",
    "      'thal', hash_bucket_size=1000)\r\n",
    "demo(tf.feature_column.indicator_column(thal_hashed))"
   ],
   "outputs": [
    {
     "output_type": "stream",
     "name": "stdout",
     "text": [
      "WARNING:tensorflow:Layer dense_features_17 is casting an input tensor from dtype float64 to the layer's dtype of float32, which is new behavior in TensorFlow 2.  The layer has dtype float32 because its dtype defaults to floatx.\n",
      "\n",
      "If you intended to run this layer in float32, you can safely ignore this warning. If in doubt, this warning is likely only an issue if you are porting a TensorFlow 1.X model to TensorFlow 2.\n",
      "\n",
      "To change all layers to have dtype float64 by default, call `tf.keras.backend.set_floatx('float64')`. To change just this layer, pass dtype='float64' to the layer constructor. If you are the author of this layer, you can disable autocasting by passing autocast=False to the base Layer constructor.\n",
      "\n",
      "[[0. 0. 0. ... 0. 0. 0.]\n",
      " [0. 0. 0. ... 0. 0. 0.]\n",
      " [0. 0. 0. ... 0. 0. 0.]\n",
      " [0. 0. 0. ... 0. 0. 0.]\n",
      " [0. 0. 0. ... 0. 0. 0.]]\n"
     ]
    }
   ],
   "metadata": {
    "colab": {},
    "colab_type": "code",
    "id": "YHU_Aj2nRRDC"
   }
  },
  {
   "cell_type": "markdown",
   "source": [
    "### Crossed feature columns\n",
    "Combining features into a single feature, better known as [feature crosses](https://developers.google.com/machine-learning/glossary/#feature_cross), enables a model to learn separate weights for each combination of features. Here, we will create a new feature that is the cross of age and thal. Note that `crossed_column` does not build the full table of all possible combinations (which could be very large). Instead, it is backed by a `hashed_column`, so you can choose how large the table is."
   ],
   "metadata": {
    "colab_type": "text",
    "id": "fB94M27DRXtZ"
   }
  },
  {
   "cell_type": "code",
   "execution_count": null,
   "source": [
    "feature_layer=layers.DenseFeatures(\r\n",
    "    feature_columns=feature_column.crossed_column([\r\n",
    "    \r\n",
    "    feature_column.categorical_column_with_hash_bucket(\r\n",
    "            key='thal',hash_bucket_size=1000),\r\n",
    "    \r\n",
    "    feature_column.bucketized_column(\r\n",
    "        source_column=feature_column.numeric_column(\r\n",
    "            key='age'\r\n",
    "        ), boundaries=[18,25,30,35,40,45,50,55,60,65]\r\n",
    "    )\r\n",
    "    ], 24*7 #This is a hash bucket  \r\n",
    "\r\n",
    "    )\r\n",
    ")\r\n",
    "feature_layer(example_batch).numpy()"
   ],
   "outputs": [],
   "metadata": {}
  },
  {
   "cell_type": "code",
   "execution_count": 83,
   "source": [
    "# Create a crossed column using the bucketized column (age_buckets)\r\n",
    "# the categorical vocabulary column (thal), and 1000 hash buckets.\r\n",
    "crossed_feature = tf.feature_column.crossed_column([age_buckets, thal], hash_bucket_size=1000)\r\n",
    "demo(tf.feature_column.indicator_column(crossed_feature))"
   ],
   "outputs": [
    {
     "output_type": "stream",
     "name": "stdout",
     "text": [
      "WARNING:tensorflow:Layer dense_features_16 is casting an input tensor from dtype float64 to the layer's dtype of float32, which is new behavior in TensorFlow 2.  The layer has dtype float32 because its dtype defaults to floatx.\n",
      "\n",
      "If you intended to run this layer in float32, you can safely ignore this warning. If in doubt, this warning is likely only an issue if you are porting a TensorFlow 1.X model to TensorFlow 2.\n",
      "\n",
      "To change all layers to have dtype float64 by default, call `tf.keras.backend.set_floatx('float64')`. To change just this layer, pass dtype='float64' to the layer constructor. If you are the author of this layer, you can disable autocasting by passing autocast=False to the base Layer constructor.\n",
      "\n",
      "[[0. 0. 0. ... 0. 0. 0.]\n",
      " [0. 0. 0. ... 0. 0. 0.]\n",
      " [0. 0. 0. ... 0. 0. 0.]\n",
      " [0. 0. 0. ... 0. 0. 0.]\n",
      " [0. 0. 0. ... 0. 0. 0.]]\n"
     ]
    }
   ],
   "metadata": {
    "colab": {},
    "colab_type": "code",
    "id": "oaPVERd9Rep6"
   }
  },
  {
   "cell_type": "markdown",
   "source": [
    "## Choose which columns to use\n",
    "We have seen how to use several types of feature columns. Now we will use them to train a model. The goal of this tutorial is to show you the complete code (e.g. mechanics) needed to work with feature columns. We have selected a few columns to train our model below arbitrarily.\n",
    "\n",
    "Key point: If your aim is to build an accurate model, try a larger dataset of your own, and think carefully about which features are the most meaningful to include, and how they should be represented."
   ],
   "metadata": {
    "colab_type": "text",
    "id": "ypkI9zx6Rj1q"
   }
  },
  {
   "cell_type": "code",
   "execution_count": null,
   "source": [],
   "outputs": [],
   "metadata": {}
  },
  {
   "cell_type": "code",
   "execution_count": null,
   "source": [],
   "outputs": [],
   "metadata": {}
  },
  {
   "cell_type": "code",
   "execution_count": null,
   "source": [],
   "outputs": [],
   "metadata": {}
  },
  {
   "cell_type": "code",
   "execution_count": 85,
   "source": [
    "feature_columns = []\n",
    "for header in ['age', 'trestbps', 'chol', 'thalach', 'oldpeak', 'slope', 'ca']:\n",
    "  feature_columns.append(feature_column.numeric_column(header))"
   ],
   "outputs": [],
   "metadata": {}
  },
  {
   "cell_type": "code",
   "execution_count": 86,
   "source": [
    "feature_columns"
   ],
   "outputs": [
    {
     "output_type": "execute_result",
     "data": {
      "text/plain": [
       "[NumericColumn(key='age', shape=(1,), default_value=None, dtype=tf.float32, normalizer_fn=None),\n",
       " NumericColumn(key='trestbps', shape=(1,), default_value=None, dtype=tf.float32, normalizer_fn=None),\n",
       " NumericColumn(key='chol', shape=(1,), default_value=None, dtype=tf.float32, normalizer_fn=None),\n",
       " NumericColumn(key='thalach', shape=(1,), default_value=None, dtype=tf.float32, normalizer_fn=None),\n",
       " NumericColumn(key='oldpeak', shape=(1,), default_value=None, dtype=tf.float32, normalizer_fn=None),\n",
       " NumericColumn(key='slope', shape=(1,), default_value=None, dtype=tf.float32, normalizer_fn=None),\n",
       " NumericColumn(key='ca', shape=(1,), default_value=None, dtype=tf.float32, normalizer_fn=None)]"
      ]
     },
     "metadata": {},
     "execution_count": 86
    }
   ],
   "metadata": {}
  },
  {
   "cell_type": "code",
   "execution_count": 87,
   "source": [
    "layers.DenseFeatures(feature_columns[0])(example_batch).numpy()"
   ],
   "outputs": [
    {
     "output_type": "stream",
     "name": "stdout",
     "text": [
      "WARNING:tensorflow:Layer dense_features_18 is casting an input tensor from dtype float64 to the layer's dtype of float32, which is new behavior in TensorFlow 2.  The layer has dtype float32 because its dtype defaults to floatx.\n",
      "\n",
      "If you intended to run this layer in float32, you can safely ignore this warning. If in doubt, this warning is likely only an issue if you are porting a TensorFlow 1.X model to TensorFlow 2.\n",
      "\n",
      "To change all layers to have dtype float64 by default, call `tf.keras.backend.set_floatx('float64')`. To change just this layer, pass dtype='float64' to the layer constructor. If you are the author of this layer, you can disable autocasting by passing autocast=False to the base Layer constructor.\n",
      "\n"
     ]
    },
    {
     "output_type": "execute_result",
     "data": {
      "text/plain": [
       "array([[64.],\n",
       "       [56.],\n",
       "       [39.],\n",
       "       [60.],\n",
       "       [60.]], dtype=float32)"
      ]
     },
     "metadata": {},
     "execution_count": 87
    }
   ],
   "metadata": {}
  },
  {
   "cell_type": "code",
   "execution_count": 88,
   "source": [
    "age_buckets = feature_column.bucketized_column(source_column=feature_column.numeric_column(key='age'), boundaries=[18, 25, 30, 35, 40, 45, 50, 55, 60, 65])\n",
    "feature_columns.append(age_buckets)"
   ],
   "outputs": [],
   "metadata": {}
  },
  {
   "cell_type": "code",
   "execution_count": 89,
   "source": [
    "feature_columns"
   ],
   "outputs": [
    {
     "output_type": "execute_result",
     "data": {
      "text/plain": [
       "[NumericColumn(key='age', shape=(1,), default_value=None, dtype=tf.float32, normalizer_fn=None),\n",
       " NumericColumn(key='trestbps', shape=(1,), default_value=None, dtype=tf.float32, normalizer_fn=None),\n",
       " NumericColumn(key='chol', shape=(1,), default_value=None, dtype=tf.float32, normalizer_fn=None),\n",
       " NumericColumn(key='thalach', shape=(1,), default_value=None, dtype=tf.float32, normalizer_fn=None),\n",
       " NumericColumn(key='oldpeak', shape=(1,), default_value=None, dtype=tf.float32, normalizer_fn=None),\n",
       " NumericColumn(key='slope', shape=(1,), default_value=None, dtype=tf.float32, normalizer_fn=None),\n",
       " NumericColumn(key='ca', shape=(1,), default_value=None, dtype=tf.float32, normalizer_fn=None),\n",
       " BucketizedColumn(source_column=NumericColumn(key='age', shape=(1,), default_value=None, dtype=tf.float32, normalizer_fn=None), boundaries=(18, 25, 30, 35, 40, 45, 50, 55, 60, 65))]"
      ]
     },
     "metadata": {},
     "execution_count": 89
    }
   ],
   "metadata": {}
  },
  {
   "cell_type": "code",
   "execution_count": null,
   "source": [],
   "outputs": [],
   "metadata": {}
  },
  {
   "cell_type": "code",
   "execution_count": null,
   "source": [],
   "outputs": [],
   "metadata": {}
  },
  {
   "cell_type": "code",
   "execution_count": 90,
   "source": [
    "\n",
    "feature_columns = []\n",
    "# numeric cols\n",
    "# Create a feature column out of the header using a numeric column.\n",
    "for header in ['age', 'trestbps', 'chol', 'thalach', 'oldpeak', 'slope', 'ca']:\n",
    "  feature_columns.append(feature_column.numeric_column(header))\n",
    "\n",
    "# bucketized cols\n",
    "# Create a bucketized feature column out of the age column using the following boundaries.\n",
    "age_buckets = feature_column.bucketized_column(age, boundaries=[18, 25, 30, 35, 40, 45, 50, 55, 60, 65])\n",
    "feature_columns.append(age_buckets)\n",
    "\n",
    "# indicator cols\n",
    "# Create a categorical vocabulary column out of the below categories with the key specified as `thal`.\n",
    "thal = feature_column.categorical_column_with_vocabulary_list(\n",
    "      'thal', ['fixed', 'normal', 'reversible'])\n",
    "thal_one_hot = feature_column.indicator_column(thal)\n",
    "feature_columns.append(thal_one_hot)\n",
    "\n",
    "# embedding cols\n",
    "# Create an embedding column out of the categorical vocabulary\n",
    "thal_embedding = feature_column.embedding_column(thal, dimension=8)\n",
    "feature_columns.append(thal_embedding)\n",
    "\n",
    "# crossed cols\n",
    "# Create a crossed column using the bucketized column (age_buckets),\n",
    "# the categorical vocabulary column (thal), and 1000 hash buckets.\n",
    "crossed_feature = feature_column.crossed_column([age_buckets, thal], hash_bucket_size=1000)\n",
    "crossed_feature = feature_column.indicator_column(crossed_feature)\n",
    "feature_columns.append(crossed_feature)"
   ],
   "outputs": [],
   "metadata": {
    "colab": {},
    "colab_type": "code",
    "id": "4PlLY7fORuzA"
   }
  },
  {
   "cell_type": "code",
   "execution_count": 91,
   "source": [
    "feature_columns"
   ],
   "outputs": [
    {
     "output_type": "execute_result",
     "data": {
      "text/plain": [
       "[NumericColumn(key='age', shape=(1,), default_value=None, dtype=tf.float32, normalizer_fn=None),\n",
       " NumericColumn(key='trestbps', shape=(1,), default_value=None, dtype=tf.float32, normalizer_fn=None),\n",
       " NumericColumn(key='chol', shape=(1,), default_value=None, dtype=tf.float32, normalizer_fn=None),\n",
       " NumericColumn(key='thalach', shape=(1,), default_value=None, dtype=tf.float32, normalizer_fn=None),\n",
       " NumericColumn(key='oldpeak', shape=(1,), default_value=None, dtype=tf.float32, normalizer_fn=None),\n",
       " NumericColumn(key='slope', shape=(1,), default_value=None, dtype=tf.float32, normalizer_fn=None),\n",
       " NumericColumn(key='ca', shape=(1,), default_value=None, dtype=tf.float32, normalizer_fn=None),\n",
       " BucketizedColumn(source_column=NumericColumn(key='age', shape=(1,), default_value=None, dtype=tf.float32, normalizer_fn=None), boundaries=(18, 25, 30, 35, 40, 45, 50, 55, 60, 65)),\n",
       " IndicatorColumn(categorical_column=VocabularyListCategoricalColumn(key='thal', vocabulary_list=('fixed', 'normal', 'reversible'), dtype=tf.string, default_value=-1, num_oov_buckets=0)),\n",
       " EmbeddingColumn(categorical_column=VocabularyListCategoricalColumn(key='thal', vocabulary_list=('fixed', 'normal', 'reversible'), dtype=tf.string, default_value=-1, num_oov_buckets=0), dimension=8, combiner='mean', initializer=<tensorflow.python.ops.init_ops.TruncatedNormal object at 0x7f7f9de38350>, ckpt_to_load_from=None, tensor_name_in_ckpt=None, max_norm=None, trainable=True, use_safe_embedding_lookup=True),\n",
       " IndicatorColumn(categorical_column=CrossedColumn(keys=(BucketizedColumn(source_column=NumericColumn(key='age', shape=(1,), default_value=None, dtype=tf.float32, normalizer_fn=None), boundaries=(18, 25, 30, 35, 40, 45, 50, 55, 60, 65)), VocabularyListCategoricalColumn(key='thal', vocabulary_list=('fixed', 'normal', 'reversible'), dtype=tf.string, default_value=-1, num_oov_buckets=0)), hash_bucket_size=1000, hash_key=None))]"
      ]
     },
     "metadata": {},
     "execution_count": 91
    }
   ],
   "metadata": {}
  },
  {
   "cell_type": "markdown",
   "source": [
    "### How to Input Feature Columns to a Keras Model\n",
    "Now that we have defined our feature columns, we now use a [DenseFeatures](https://www.tensorflow.org/versions/r2.0/api_docs/python/tf/keras/layers/DenseFeatures) layer to input them to a Keras model.  Don't worry if you have not used Keras before.  There is a more detailed video and lab introducing the Keras Sequential and Functional models."
   ],
   "metadata": {
    "colab_type": "text",
    "id": "M-nDp8krS_ts"
   }
  },
  {
   "cell_type": "code",
   "execution_count": 92,
   "source": [
    "# Create a Keras DenseFeatures layer and pass the feature_columns\n",
    "feature_layer = tf.keras.layers.DenseFeatures(feature_columns=feature_columns)"
   ],
   "outputs": [],
   "metadata": {
    "colab": {},
    "colab_type": "code",
    "id": "6o-El1R2TGQP"
   }
  },
  {
   "cell_type": "markdown",
   "source": [
    "Earlier, we used a small batch size to demonstrate how feature columns worked. We create a new input pipeline with a larger batch size."
   ],
   "metadata": {
    "colab_type": "text",
    "id": "8cf6vKfgTH0U"
   }
  },
  {
   "cell_type": "code",
   "execution_count": 93,
   "source": [
    "batch_size = 32\n",
    "train_ds = df_to_dataset(train, batch_size=batch_size)\n",
    "val_ds = df_to_dataset(val, shuffle=False, batch_size=batch_size)\n",
    "test_ds = df_to_dataset(test, shuffle=False, batch_size=batch_size)"
   ],
   "outputs": [],
   "metadata": {
    "colab": {},
    "colab_type": "code",
    "id": "gcemszoGSse_"
   }
  },
  {
   "cell_type": "markdown",
   "source": [
    "## Create, compile, and train the model"
   ],
   "metadata": {
    "colab_type": "text",
    "id": "bBx4Xu0eTXWq"
   }
  },
  {
   "cell_type": "code",
   "execution_count": 94,
   "source": [
    "# `Sequential` provides training and inference features on this model.\n",
    "model = tf.keras.Sequential([\n",
    "  feature_layer,\n",
    "  layers.Dense(128, activation='relu'),\n",
    "  layers.Dense(128, activation='relu'),\n",
    "  layers.Dense(1)\n",
    "])\n",
    "\n",
    "# `Compile` configures the model for training.\n",
    "model.compile(optimizer='adam',\n",
    "              loss=tf.keras.losses.BinaryCrossentropy(from_logits=True),\n",
    "              metrics=['accuracy'])\n",
    "\n",
    "# `Fit` trains the model for a fixed number of epochs\n",
    "history = model.fit(train_ds,\n",
    "          validation_data=val_ds,\n",
    "          epochs=5)"
   ],
   "outputs": [
    {
     "output_type": "stream",
     "name": "stdout",
     "text": [
      "Epoch 1/5\n",
      "WARNING:tensorflow:Layers in a Sequential model should only have a single input tensor, but we receive a <class 'dict'> input: {'age': <tf.Tensor 'ExpandDims:0' shape=(None, 1) dtype=int64>, 'sex': <tf.Tensor 'ExpandDims_8:0' shape=(None, 1) dtype=int64>, 'cp': <tf.Tensor 'ExpandDims_3:0' shape=(None, 1) dtype=int64>, 'trestbps': <tf.Tensor 'ExpandDims_12:0' shape=(None, 1) dtype=int64>, 'chol': <tf.Tensor 'ExpandDims_2:0' shape=(None, 1) dtype=int64>, 'fbs': <tf.Tensor 'ExpandDims_5:0' shape=(None, 1) dtype=int64>, 'restecg': <tf.Tensor 'ExpandDims_7:0' shape=(None, 1) dtype=int64>, 'thalach': <tf.Tensor 'ExpandDims_11:0' shape=(None, 1) dtype=int64>, 'exang': <tf.Tensor 'ExpandDims_4:0' shape=(None, 1) dtype=int64>, 'oldpeak': <tf.Tensor 'ExpandDims_6:0' shape=(None, 1) dtype=float64>, 'slope': <tf.Tensor 'ExpandDims_9:0' shape=(None, 1) dtype=int64>, 'ca': <tf.Tensor 'ExpandDims_1:0' shape=(None, 1) dtype=int64>, 'thal': <tf.Tensor 'ExpandDims_10:0' shape=(None, 1) dtype=string>}\n",
      "Consider rewriting this model with the Functional API.\n",
      "WARNING:tensorflow:Layer dense_features_19 is casting an input tensor from dtype float64 to the layer's dtype of float32, which is new behavior in TensorFlow 2.  The layer has dtype float32 because its dtype defaults to floatx.\n",
      "\n",
      "If you intended to run this layer in float32, you can safely ignore this warning. If in doubt, this warning is likely only an issue if you are porting a TensorFlow 1.X model to TensorFlow 2.\n",
      "\n",
      "To change all layers to have dtype float64 by default, call `tf.keras.backend.set_floatx('float64')`. To change just this layer, pass dtype='float64' to the layer constructor. If you are the author of this layer, you can disable autocasting by passing autocast=False to the base Layer constructor.\n",
      "\n",
      "WARNING:tensorflow:Layers in a Sequential model should only have a single input tensor, but we receive a <class 'dict'> input: {'age': <tf.Tensor 'ExpandDims:0' shape=(None, 1) dtype=int64>, 'sex': <tf.Tensor 'ExpandDims_8:0' shape=(None, 1) dtype=int64>, 'cp': <tf.Tensor 'ExpandDims_3:0' shape=(None, 1) dtype=int64>, 'trestbps': <tf.Tensor 'ExpandDims_12:0' shape=(None, 1) dtype=int64>, 'chol': <tf.Tensor 'ExpandDims_2:0' shape=(None, 1) dtype=int64>, 'fbs': <tf.Tensor 'ExpandDims_5:0' shape=(None, 1) dtype=int64>, 'restecg': <tf.Tensor 'ExpandDims_7:0' shape=(None, 1) dtype=int64>, 'thalach': <tf.Tensor 'ExpandDims_11:0' shape=(None, 1) dtype=int64>, 'exang': <tf.Tensor 'ExpandDims_4:0' shape=(None, 1) dtype=int64>, 'oldpeak': <tf.Tensor 'ExpandDims_6:0' shape=(None, 1) dtype=float64>, 'slope': <tf.Tensor 'ExpandDims_9:0' shape=(None, 1) dtype=int64>, 'ca': <tf.Tensor 'ExpandDims_1:0' shape=(None, 1) dtype=int64>, 'thal': <tf.Tensor 'ExpandDims_10:0' shape=(None, 1) dtype=string>}\n",
      "Consider rewriting this model with the Functional API.\n",
      "6/7 [========================>.....] - ETA: 0s - loss: 1.0796 - accuracy: 0.6458WARNING:tensorflow:Layers in a Sequential model should only have a single input tensor, but we receive a <class 'dict'> input: {'age': <tf.Tensor 'ExpandDims:0' shape=(None, 1) dtype=int64>, 'sex': <tf.Tensor 'ExpandDims_8:0' shape=(None, 1) dtype=int64>, 'cp': <tf.Tensor 'ExpandDims_3:0' shape=(None, 1) dtype=int64>, 'trestbps': <tf.Tensor 'ExpandDims_12:0' shape=(None, 1) dtype=int64>, 'chol': <tf.Tensor 'ExpandDims_2:0' shape=(None, 1) dtype=int64>, 'fbs': <tf.Tensor 'ExpandDims_5:0' shape=(None, 1) dtype=int64>, 'restecg': <tf.Tensor 'ExpandDims_7:0' shape=(None, 1) dtype=int64>, 'thalach': <tf.Tensor 'ExpandDims_11:0' shape=(None, 1) dtype=int64>, 'exang': <tf.Tensor 'ExpandDims_4:0' shape=(None, 1) dtype=int64>, 'oldpeak': <tf.Tensor 'ExpandDims_6:0' shape=(None, 1) dtype=float64>, 'slope': <tf.Tensor 'ExpandDims_9:0' shape=(None, 1) dtype=int64>, 'ca': <tf.Tensor 'ExpandDims_1:0' shape=(None, 1) dtype=int64>, 'thal': <tf.Tensor 'ExpandDims_10:0' shape=(None, 1) dtype=string>}\n",
      "Consider rewriting this model with the Functional API.\n",
      "7/7 [==============================] - 1s 110ms/step - loss: 1.0746 - accuracy: 0.6477 - val_loss: 0.4533 - val_accuracy: 0.7959\n",
      "Epoch 2/5\n",
      "7/7 [==============================] - 0s 15ms/step - loss: 0.5321 - accuracy: 0.7565 - val_loss: 0.7364 - val_accuracy: 0.6939\n",
      "Epoch 3/5\n",
      "7/7 [==============================] - 0s 16ms/step - loss: 0.5909 - accuracy: 0.7358 - val_loss: 0.5491 - val_accuracy: 0.7347\n",
      "Epoch 4/5\n",
      "7/7 [==============================] - 0s 16ms/step - loss: 0.6028 - accuracy: 0.7617 - val_loss: 0.8413 - val_accuracy: 0.6939\n",
      "Epoch 5/5\n",
      "7/7 [==============================] - 0s 16ms/step - loss: 0.5673 - accuracy: 0.7824 - val_loss: 0.5032 - val_accuracy: 0.7143\n"
     ]
    }
   ],
   "metadata": {
    "colab": {},
    "colab_type": "code",
    "id": "_YJPPb3xTPeZ"
   }
  },
  {
   "cell_type": "code",
   "execution_count": 95,
   "source": [
    "# `Evaluate` returns the loss value & metrics values for the model in test mode.\n",
    "loss, accuracy = model.evaluate(test_ds)\n",
    "print(\"Accuracy\", accuracy)"
   ],
   "outputs": [
    {
     "output_type": "stream",
     "name": "stdout",
     "text": [
      "2/2 [==============================] - 0s 4ms/step - loss: 0.4943 - accuracy: 0.7705\n",
      "Accuracy 0.7704917788505554\n"
     ]
    }
   ],
   "metadata": {
    "colab": {},
    "colab_type": "code",
    "id": "GnFmMOW0Tcaa"
   }
  },
  {
   "cell_type": "markdown",
   "source": [
    "### Visualize the model loss curve\n",
    "\n",
    "Next, we will use Matplotlib to draw the model's loss curves for training and validation.  A line plot is also created showing the accuracy over the training epochs for both the train (blue) and test (orange) sets."
   ],
   "metadata": {}
  },
  {
   "cell_type": "code",
   "execution_count": 96,
   "source": [
    "def plot_curves(history, metrics):\n",
    "    nrows = 1\n",
    "    ncols = 2\n",
    "    fig = plt.figure(figsize=(10, 5))\n",
    "\n",
    "    for idx, key in enumerate(metrics):  \n",
    "        ax = fig.add_subplot(nrows, ncols, idx+1)\n",
    "        plt.plot(history.history[key])\n",
    "        plt.plot(history.history['val_{}'.format(key)])\n",
    "        plt.title('model {}'.format(key))\n",
    "        plt.ylabel(key)\n",
    "        plt.xlabel('epoch')\n",
    "        plt.legend(['train', 'validation'], loc='upper left');    \n",
    "    \n",
    "    \n",
    "\n",
    "plot_curves(history, ['loss', 'accuracy'])"
   ],
   "outputs": [
    {
     "output_type": "display_data",
     "data": {
      "text/plain": [
       "<Figure size 720x360 with 2 Axes>"
      ],
      "image/png": "[encoded data removed]"
     },
     "metadata": {
      "needs_background": "light"
     }
    }
   ],
   "metadata": {}
  },
  {
   "cell_type": "markdown",
   "source": [
    "You can see that accuracy is at 77% for both the training and validation data, while loss bottoms out at about .477 after four epochs.\n",
    "\n",
    "Key point: You will typically see best results with deep learning with much larger and more complex datasets. When working with a small dataset like this one, we recommend using a decision tree or random forest as a strong baseline. The goal of this tutorial is not to train an accurate model, but to demonstrate the mechanics of working with structured data, so you have code to use as a starting point when working with your own datasets in the future."
   ],
   "metadata": {
    "colab_type": "text",
    "id": "3bdfbq20V6zu"
   }
  },
  {
   "cell_type": "markdown",
   "source": [
    "## Next steps\n",
    "The best way to learn more about classifying structured data is to try it yourself. We suggest finding another dataset to work with, and training a model to classify it using code similar to the above. To improve accuracy, think carefully about which features to include in your model, and how they should be represented."
   ],
   "metadata": {
    "colab_type": "text",
    "id": "SotnhVWuHQCw"
   }
  },
  {
   "cell_type": "markdown",
   "source": [
    "Copyright 2021 Google Inc.\n",
    "Licensed under the Apache License, Version 2.0 (the \"License\"); you may not use this file except in compliance with the License. You may obtain a copy of the License at\n",
    "http://www.apache.org/licenses/LICENSE-2.0\n",
    "Unless required by applicable law or agreed to in writing, software distributed under the License is distributed on an \"AS IS\" BASIS, WITHOUT WARRANTIES OR CONDITIONS OF ANY KIND, either express or implied. See the License for the specific language governing permissions and limitations under the License."
   ],
   "metadata": {}
  }
 ],
 "metadata": {
  "colab": {
   "collapsed_sections": [],
   "name": "feature_columns.ipynb",
   "private_outputs": true,
   "provenance": [],
   "toc_visible": true
  },
  "environment": {
   "name": "tf2-gpu.2-3.m74",
   "type": "gcloud",
   "uri": "gcr.io/deeplearning-platform-release/tf2-gpu.2-3:m74"
  },
  "kernelspec": {
   "display_name": "Python 3",
   "language": "python",
   "name": "python3"
  },
  "language_info": {
   "codemirror_mode": {
    "name": "ipython",
    "version": 3
   },
   "file_extension": ".py",
   "mimetype": "text/x-python",
   "name": "python",
   "nbconvert_exporter": "python",
   "pygments_lexer": "ipython3",
   "version": "3.7.10"
  }
 },
 "nbformat": 4,
 "nbformat_minor": 4
}