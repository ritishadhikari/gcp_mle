{
 "cells": [
  {
   "cell_type": "markdown",
   "metadata": {},
   "source": [
    "# MNIST Image Classification with TensorFlow on Cloud AI Platform\n",
    "\n",
    "This notebook demonstrates how to implement different image models on MNIST using the [tf.keras API](https://www.tensorflow.org/versions/r2.0/api_docs/python/tf/keras).\n",
    "\n",
    "## Learning Objectives\n",
    "1. Understand how to build a Dense Neural Network (DNN) for image classification\n",
    "2. Understand how to use dropout (DNN) for image classification\n",
    "3. Understand how to use Convolutional Neural Networks (CNN)\n",
    "4. Know how to deploy and use an image classification model using Google Cloud's [AI Platform](https://cloud.google.com/ai-platform/)\n",
    "\n",
    "Each learning objective will correspond to a __#TODO__ in the [student lab notebook](training-data-analyst/courses/machine_learning/deepdive2/image_classification/labs/2_mnist_models.ipynb) -- try to complete that notebook first before reviewing this solution notebook.\n",
    "\n",
    "First things first. Configure the parameters below to match your own Google Cloud project details."
   ]
  },
  {
   "cell_type": "code",
   "execution_count": 1,
   "metadata": {
    "colab": {},
    "colab_type": "code",
    "id": "Nny3m465gKkY"
   },
   "outputs": [],
   "source": [
    "!sudo chown -R jupyter:jupyter /home/jupyter/training-data-analyst"
   ]
  },
  {
   "cell_type": "code",
   "execution_count": 2,
   "metadata": {},
   "outputs": [
    {
     "name": "stdout",
     "output_type": "stream",
     "text": [
      "2.5.0\n"
     ]
    }
   ],
   "source": [
    "# Here we'll show the currently installed version of TensorFlow\n",
    "import tensorflow as tf\n",
    "print(tf.__version__)"
   ]
  },
  {
   "cell_type": "code",
   "execution_count": 15,
   "metadata": {},
   "outputs": [],
   "source": [
    "from datetime import datetime\n",
    "import os\n",
    "\n",
    "PROJECT = \"qwiklabs-gcp-00-188beb26468b\"  # REPLACE WITH YOUR PROJECT ID\n",
    "BUCKET = \"qwiklabs-gcp-00-188beb26468b\"  # REPLACE WITH YOUR BUCKET NAME\n",
    "REGION = \"us-central1\"  # REPLACE WITH YOUR BUCKET REGION e.g. us-central1\n",
    "MODEL_TYPE = \"cnn\"  # \"linear\", \"cnn\", \"dnn_dropout\", or \"dnn\"\n",
    "\n",
    "# Do not change these\n",
    "os.environ[\"PROJECT\"] = PROJECT\n",
    "os.environ[\"BUCKET\"] = BUCKET\n",
    "os.environ[\"REGION\"] = REGION\n",
    "os.environ[\"MODEL_TYPE\"] = MODEL_TYPE\n",
    "os.environ[\"TFVERSION\"] = \"2.5\"  # Tensorflow  version\n",
    "os.environ[\"IMAGE_URI\"] = os.path.join(\"gcr.io\", PROJECT, \"mnist_models_1\")"
   ]
  },
  {
   "cell_type": "markdown",
   "metadata": {},
   "source": [
    "## Building a dynamic model\n",
    "\n",
    "In the previous notebook, <a href=\"mnist_linear.ipynb\">mnist_linear.ipynb</a>, we ran our code directly from the notebook. In order to run it on the AI Platform, it needs to be packaged as a python module.\n",
    "\n",
    "The boilerplate structure for this module has already been set up in the folder `mnist_models`. The module lives in the sub-folder, `trainer`, and is designated as a python package with the empty `__init__.py` (`mnist_models/trainer/__init__.py`) file. It still needs the model and a trainer to run it, so let's make them.\n",
    "\n",
    "Let's start with the trainer file first. This file parses command line arguments to feed into the model."
   ]
  },
  {
   "cell_type": "code",
   "execution_count": 9,
   "metadata": {},
   "outputs": [
    {
     "name": "stdout",
     "output_type": "stream",
     "text": [
      "Writing mnist_models/trainer/task.py\n"
     ]
    }
   ],
   "source": [
    "%%writefile mnist_models/trainer/task.py\n",
    "import argparse\n",
    "import json\n",
    "import os\n",
    "import sys\n",
    "\n",
    "from . import model\n",
    "\n",
    "\n",
    "def _parse_arguments(argv):\n",
    "    \"\"\"Parses command-line arguments.\"\"\"\n",
    "    parser = argparse.ArgumentParser()\n",
    "    parser.add_argument(\n",
    "        '--model_type',\n",
    "        help='Which model type to use',\n",
    "        type=str, default='linear')\n",
    "    parser.add_argument(\n",
    "        '--epochs',\n",
    "        help='The number of epochs to train',\n",
    "        type=int, default=10)\n",
    "    parser.add_argument(\n",
    "        '--steps_per_epoch',\n",
    "        help='The number of steps per epoch to train',\n",
    "        type=int, default=100)\n",
    "    parser.add_argument(\n",
    "        '--job-dir',\n",
    "        help='Directory where to save the given model',\n",
    "        type=str, default='mnist_models/')\n",
    "    return parser.parse_known_args(argv)\n",
    "\n",
    "\n",
    "def main():\n",
    "    \"\"\"Parses command line arguments and kicks off model training.\"\"\"\n",
    "    args = _parse_arguments(sys.argv[1:])[0]\n",
    "\n",
    "    # Configure path for hyperparameter tuning.\n",
    "    trial_id = json.loads(\n",
    "        os.environ.get('TF_CONFIG', '{}')).get('task', {}).get('trial', '')\n",
    "    output_path = args.job_dir if not trial_id else args.job_dir + '/'\n",
    "\n",
    "    model_layers = model.get_layers(args.model_type)\n",
    "    image_model = model.build_model(model_layers, args.job_dir)\n",
    "    model_history = model.train_and_evaluate(\n",
    "        image_model, args.epochs, args.steps_per_epoch, args.job_dir)\n",
    "\n",
    "\n",
    "if __name__ == '__main__':\n",
    "    main()\n"
   ]
  },
  {
   "cell_type": "markdown",
   "metadata": {},
   "source": [
    "Next, let's group non-model functions into a util file to keep the model file simple. We'll copy over the `scale` and `load_dataset` functions from the previous lab."
   ]
  },
  {
   "cell_type": "code",
   "execution_count": 4,
   "metadata": {},
   "outputs": [
    {
     "name": "stdout",
     "output_type": "stream",
     "text": [
      "Writing mnist_models/trainer/util.py\n"
     ]
    }
   ],
   "source": [
    "%%writefile mnist_models/trainer/util.py\n",
    "import tensorflow as tf\n",
    "\n",
    "\n",
    "def scale(image, label):\n",
    "    \"\"\"Scales images from a 0-255 int range to a 0-1 float range\"\"\"\n",
    "    image = tf.cast(image, tf.float32)\n",
    "    image /= 255\n",
    "    image = tf.expand_dims(image, -1)\n",
    "    return image, label\n",
    "\n",
    "\n",
    "def load_dataset(\n",
    "        data, training=True, buffer_size=5000, batch_size=100, nclasses=10):\n",
    "    \"\"\"Loads MNIST dataset into a tf.data.Dataset\"\"\"\n",
    "    (x_train, y_train), (x_test, y_test) = data\n",
    "    x = x_train if training else x_test\n",
    "    y = y_train if training else y_test\n",
    "    # One-hot encode the classes\n",
    "    y = tf.keras.utils.to_categorical(y, nclasses)\n",
    "    dataset = tf.data.Dataset.from_tensor_slices((x, y))\n",
    "    dataset = dataset.map(scale).batch(batch_size)\n",
    "    if training:\n",
    "        dataset = dataset.shuffle(buffer_size).repeat()\n",
    "    return dataset\n"
   ]
  },
  {
   "cell_type": "markdown",
   "metadata": {},
   "source": [
    "Finally, let's code the models! The [tf.keras API](https://www.tensorflow.org/versions/r2.0/api_docs/python/tf/keras) accepts an array of [layers](https://www.tensorflow.org/api_docs/python/tf/keras/layers) into a [model object](https://www.tensorflow.org/api_docs/python/tf/keras/Model), so we can create a dictionary of layers based on the different model types we want to use. The below file has two functions: `get_layers` and `create_and_train_model`. We will build the structure of our model in `get_layers`. Last but not least, we'll copy over the training code from the previous lab into `train_and_evaluate`.\n",
    "\n",
    "**TODO 1**: Define the Keras layers for a DNN model   \n",
    "**TODO 2**: Define the Keras layers for a dropout model  \n",
    "**TODO 3**: Define the Keras layers for a CNN model  \n",
    "\n",
    "Hint: These models progressively build on each other. Look at the imported `tensorflow.keras.layers` modules and the default values for the variables defined in `get_layers` for guidance."
   ]
  },
  {
   "cell_type": "code",
   "execution_count": 5,
   "metadata": {},
   "outputs": [
    {
     "name": "stdout",
     "output_type": "stream",
     "text": [
      "Writing mnist_models/trainer/model.py\n"
     ]
    }
   ],
   "source": [
    "%%writefile mnist_models/trainer/model.py\n",
    "import os\n",
    "import shutil\n",
    "\n",
    "import matplotlib.pyplot as plt\n",
    "import numpy as np\n",
    "import tensorflow as tf\n",
    "from tensorflow.keras import Sequential\n",
    "from tensorflow.keras.callbacks import TensorBoard\n",
    "from tensorflow.keras.layers import (\n",
    "    Conv2D, Dense, Dropout, Flatten, MaxPooling2D, Softmax)\n",
    "\n",
    "from . import util\n",
    "\n",
    "\n",
    "# Image Variables\n",
    "WIDTH = 28\n",
    "HEIGHT = 28\n",
    "\n",
    "\n",
    "def get_layers(\n",
    "        model_type,\n",
    "        nclasses=10,\n",
    "        hidden_layer_1_neurons=400,\n",
    "        hidden_layer_2_neurons=100,\n",
    "        dropout_rate=0.25,\n",
    "        num_filters_1=64,\n",
    "        kernel_size_1=3,\n",
    "        pooling_size_1=2,\n",
    "        num_filters_2=32,\n",
    "        kernel_size_2=3,\n",
    "        pooling_size_2=2):\n",
    "    \"\"\"Constructs layers for a keras model based on a dict of model types.\"\"\"\n",
    "    model_layers = {\n",
    "        'linear': [\n",
    "            Flatten(),\n",
    "            Dense(nclasses),\n",
    "            Softmax()\n",
    "        ],\n",
    "        'dnn': [\n",
    "            Flatten(),\n",
    "            Dense(hidden_layer_1_neurons, activation='relu'),\n",
    "            Dense(hidden_layer_2_neurons, activation='relu'),\n",
    "            Dense(nclasses),\n",
    "            Softmax()\n",
    "        ],\n",
    "        'dnn_dropout': [\n",
    "            Flatten(),\n",
    "            Dense(hidden_layer_1_neurons, activation='relu'),\n",
    "            Dense(hidden_layer_2_neurons, activation='relu'),\n",
    "            Dropout(dropout_rate),\n",
    "            Dense(nclasses),\n",
    "            Softmax()\n",
    "        ],\n",
    "        'cnn': [\n",
    "            Conv2D(num_filters_1, kernel_size=kernel_size_1,\n",
    "                   activation='relu', input_shape=(WIDTH, HEIGHT, 1)),\n",
    "            MaxPooling2D(pooling_size_1),\n",
    "            Conv2D(num_filters_2, kernel_size=kernel_size_2,\n",
    "                   activation='relu'),\n",
    "            MaxPooling2D(pooling_size_2),\n",
    "            Flatten(),\n",
    "            Dense(hidden_layer_1_neurons, activation='relu'),\n",
    "            Dense(hidden_layer_2_neurons, activation='relu'),\n",
    "            Dropout(dropout_rate),\n",
    "            Dense(nclasses),\n",
    "            Softmax()\n",
    "        ]\n",
    "    }\n",
    "    return model_layers[model_type]\n",
    "\n",
    "\n",
    "def build_model(layers, output_dir):\n",
    "    \"\"\"Compiles keras model for image classification.\"\"\"\n",
    "    model = Sequential(layers)\n",
    "    model.compile(optimizer='adam',\n",
    "                  loss='categorical_crossentropy',\n",
    "                  metrics=['accuracy'])\n",
    "    return model\n",
    "\n",
    "\n",
    "def train_and_evaluate(model, num_epochs, steps_per_epoch, output_dir):\n",
    "    \"\"\"Compiles keras model and loads data into it for training.\"\"\"\n",
    "    mnist = tf.keras.datasets.mnist.load_data()\n",
    "    train_data = util.load_dataset(mnist)\n",
    "    validation_data = util.load_dataset(mnist, training=False)\n",
    "\n",
    "    callbacks = []\n",
    "    if output_dir:\n",
    "        tensorboard_callback = TensorBoard(log_dir=output_dir)\n",
    "        callbacks = [tensorboard_callback]\n",
    "\n",
    "    history = model.fit(\n",
    "        train_data,\n",
    "        validation_data=validation_data,\n",
    "        epochs=num_epochs,\n",
    "        steps_per_epoch=steps_per_epoch,\n",
    "        verbose=2,\n",
    "        callbacks=callbacks)\n",
    "\n",
    "    if output_dir:\n",
    "        export_path = os.path.join(output_dir, 'keras_export')\n",
    "        model.save(export_path, save_format='tf')\n",
    "\n",
    "    return history\n"
   ]
  },
  {
   "cell_type": "markdown",
   "metadata": {},
   "source": [
    "## Local Training\n",
    "\n",
    "With everything set up, let's run locally to test the code. Some of the previous tests have been copied over into a testing script `mnist_models/trainer/test.py` to make sure the model still passes our previous checks. On `line 13`, you can specify which model types you would like to check. `line 14` and `line 15` has the number of epochs and steps per epoch respectively.\n",
    "\n",
    "Moment of truth! Run the code below to check your models against the unit tests. If you see \"OK\" at the end when it's finished running, congrats! You've passed the tests!"
   ]
  },
  {
   "cell_type": "code",
   "execution_count": 6,
   "metadata": {},
   "outputs": [
    {
     "name": "stdout",
     "output_type": "stream",
     "text": [
      "Downloading data from https://storage.googleapis.com/tensorflow/tf-keras-datasets/mnist.npz\n",
      "11493376/11490434 [==============================] - 0s 0us/step\n",
      "2021-08-13 06:25:29.196991: I tensorflow/core/common_runtime/process_util.cc:146] Creating new thread pool with default inter op setting: 2. Tune using inter_op_parallelism_threads for best performance.\n",
      "2021-08-13 06:25:29.331664: I tensorflow/compiler/mlir/mlir_graph_optimization_pass.cc:176] None of the MLIR Optimization Passes are enabled (registered 2)\n",
      "2021-08-13 06:25:29.338746: I tensorflow/core/platform/profile_utils/cpu_utils.cc:114] CPU Frequency: 2200150000 Hz\n",
      "..\n",
      "*** Building model for linear ***\n",
      "\n",
      "Epoch 1/10\n",
      "100/100 - 5s - loss: 1.3137 - accuracy: 0.6783 - val_loss: 0.7810 - val_accuracy: 0.8440\n",
      "Epoch 2/10\n",
      "100/100 - 1s - loss: 0.6693 - accuracy: 0.8479 - val_loss: 0.5503 - val_accuracy: 0.8782\n",
      "Epoch 3/10\n",
      "100/100 - 1s - loss: 0.5243 - accuracy: 0.8760 - val_loss: 0.4635 - val_accuracy: 0.8885\n",
      "Epoch 4/10\n",
      "100/100 - 1s - loss: 0.4689 - accuracy: 0.8806 - val_loss: 0.4170 - val_accuracy: 0.8962\n",
      "Epoch 5/10\n",
      "100/100 - 1s - loss: 0.4117 - accuracy: 0.8928 - val_loss: 0.3864 - val_accuracy: 0.9031\n",
      "Epoch 6/10\n",
      "100/100 - 1s - loss: 0.4029 - accuracy: 0.8941 - val_loss: 0.3640 - val_accuracy: 0.9060\n",
      "Epoch 7/10\n",
      "100/100 - 1s - loss: 0.3668 - accuracy: 0.8987 - val_loss: 0.3497 - val_accuracy: 0.9079\n",
      "Epoch 8/10\n",
      "100/100 - 2s - loss: 0.3530 - accuracy: 0.9046 - val_loss: 0.3429 - val_accuracy: 0.9083\n",
      "Epoch 9/10\n",
      "100/100 - 1s - loss: 0.3535 - accuracy: 0.9053 - val_loss: 0.3283 - val_accuracy: 0.9117\n",
      "Epoch 10/10\n",
      "100/100 - 3s - loss: 0.3602 - accuracy: 0.9002 - val_loss: 0.3205 - val_accuracy: 0.9139\n",
      "\n",
      "*** Building model for dnn ***\n",
      "\n",
      "Epoch 1/10\n",
      "100/100 - 4s - loss: 0.5849 - accuracy: 0.8342 - val_loss: 0.2914 - val_accuracy: 0.9128\n",
      "Epoch 2/10\n",
      "100/100 - 1s - loss: 0.2559 - accuracy: 0.9225 - val_loss: 0.2291 - val_accuracy: 0.9333\n",
      "Epoch 3/10\n",
      "100/100 - 2s - loss: 0.1923 - accuracy: 0.9398 - val_loss: 0.1772 - val_accuracy: 0.9448\n",
      "Epoch 4/10\n",
      "100/100 - 2s - loss: 0.1576 - accuracy: 0.9524 - val_loss: 0.1471 - val_accuracy: 0.9539\n",
      "Epoch 5/10\n",
      "100/100 - 2s - loss: 0.1659 - accuracy: 0.9505 - val_loss: 0.1319 - val_accuracy: 0.9584\n",
      "Epoch 6/10\n",
      "100/100 - 2s - loss: 0.1482 - accuracy: 0.9586 - val_loss: 0.1460 - val_accuracy: 0.9547\n",
      "Epoch 7/10\n",
      "100/100 - 2s - loss: 0.1138 - accuracy: 0.9656 - val_loss: 0.1242 - val_accuracy: 0.9626\n",
      "Epoch 8/10\n",
      "100/100 - 2s - loss: 0.0983 - accuracy: 0.9700 - val_loss: 0.0955 - val_accuracy: 0.9711\n",
      "Epoch 9/10\n",
      "100/100 - 2s - loss: 0.0925 - accuracy: 0.9731 - val_loss: 0.1074 - val_accuracy: 0.9654\n",
      "Epoch 10/10\n",
      "100/100 - 2s - loss: 0.0954 - accuracy: 0.9717 - val_loss: 0.0889 - val_accuracy: 0.9716\n",
      "\n",
      "*** Building model for dnn_dropout ***\n",
      "\n",
      "Epoch 1/10\n",
      "100/100 - 5s - loss: 0.6652 - accuracy: 0.8033 - val_loss: 0.2860 - val_accuracy: 0.9132\n",
      "Epoch 2/10\n",
      "100/100 - 2s - loss: 0.3035 - accuracy: 0.9119 - val_loss: 0.2243 - val_accuracy: 0.9336\n",
      "Epoch 3/10\n",
      "100/100 - 2s - loss: 0.2472 - accuracy: 0.9265 - val_loss: 0.1672 - val_accuracy: 0.9497\n",
      "Epoch 4/10\n",
      "100/100 - 2s - loss: 0.2141 - accuracy: 0.9383 - val_loss: 0.1621 - val_accuracy: 0.9484\n",
      "Epoch 5/10\n",
      "100/100 - 1s - loss: 0.1789 - accuracy: 0.9471 - val_loss: 0.1482 - val_accuracy: 0.9536\n",
      "Epoch 6/10\n",
      "100/100 - 1s - loss: 0.1492 - accuracy: 0.9554 - val_loss: 0.1175 - val_accuracy: 0.9633\n",
      "Epoch 7/10\n",
      "100/100 - 2s - loss: 0.1368 - accuracy: 0.9605 - val_loss: 0.1172 - val_accuracy: 0.9648\n",
      "Epoch 8/10\n",
      "100/100 - 2s - loss: 0.1279 - accuracy: 0.9625 - val_loss: 0.1081 - val_accuracy: 0.9679\n",
      "Epoch 9/10\n",
      "100/100 - 2s - loss: 0.1090 - accuracy: 0.9662 - val_loss: 0.1034 - val_accuracy: 0.9664\n",
      "Epoch 10/10\n",
      "100/100 - 2s - loss: 0.1103 - accuracy: 0.9671 - val_loss: 0.0943 - val_accuracy: 0.9732\n",
      "\n",
      "*** Building model for cnn ***\n",
      "\n",
      "Epoch 1/10\n",
      "100/100 - 12s - loss: 0.6213 - accuracy: 0.8138 - val_loss: 0.1560 - val_accuracy: 0.9513\n",
      "Epoch 2/10\n",
      "100/100 - 8s - loss: 0.1936 - accuracy: 0.9417 - val_loss: 0.1015 - val_accuracy: 0.9685\n",
      "Epoch 3/10\n",
      "100/100 - 8s - loss: 0.1403 - accuracy: 0.9569 - val_loss: 0.0876 - val_accuracy: 0.9718\n",
      "Epoch 4/10\n",
      "100/100 - 7s - loss: 0.1077 - accuracy: 0.9674 - val_loss: 0.0627 - val_accuracy: 0.9799\n",
      "Epoch 5/10\n",
      "100/100 - 8s - loss: 0.0837 - accuracy: 0.9744 - val_loss: 0.0617 - val_accuracy: 0.9792\n",
      "Epoch 6/10\n",
      "100/100 - 8s - loss: 0.0833 - accuracy: 0.9753 - val_loss: 0.0701 - val_accuracy: 0.9767\n",
      "Epoch 7/10\n",
      "100/100 - 8s - loss: 0.0681 - accuracy: 0.9798 - val_loss: 0.0522 - val_accuracy: 0.9842\n",
      "Epoch 8/10\n",
      "100/100 - 8s - loss: 0.0583 - accuracy: 0.9813 - val_loss: 0.0451 - val_accuracy: 0.9841\n",
      "Epoch 9/10\n",
      "100/100 - 8s - loss: 0.0543 - accuracy: 0.9822 - val_loss: 0.0430 - val_accuracy: 0.9853\n",
      "Epoch 10/10\n",
      "100/100 - 8s - loss: 0.0579 - accuracy: 0.9823 - val_loss: 0.0447 - val_accuracy: 0.9851\n",
      "...\n",
      "----------------------------------------------------------------------\n",
      "Ran 5 tests in 143.995s\n",
      "\n",
      "OK\n"
     ]
    }
   ],
   "source": [
    "!python3 -m mnist_models.trainer.test"
   ]
  },
  {
   "cell_type": "markdown",
   "metadata": {},
   "source": [
    "Now that we know that our models are working as expected, let's run it on the [Google Cloud AI Platform](https://cloud.google.com/ml-engine/docs/). We can run it as a python module locally first using the command line.\n",
    "\n",
    "The below cell transfers some of our variables to the command line as well as create a job directory including a timestamp."
   ]
  },
  {
   "cell_type": "code",
   "execution_count": 16,
   "metadata": {},
   "outputs": [],
   "source": [
    "current_time = datetime.now().strftime(\"%y%m%d_%H%M%S\")\n",
    "model_type = 'cnn' # \"linear\", \"cnn\", \"dnn_dropout\", or \"dnn\"\n",
    "\n",
    "os.environ[\"MODEL_TYPE\"] = model_type\n",
    "os.environ[\"JOB_DIR\"] = \"mnist_models/models/{}_{}/\".format(\n",
    "    model_type, current_time)"
   ]
  },
  {
   "cell_type": "markdown",
   "metadata": {},
   "source": [
    "The cell below runs the local version of the code. The epochs and steps_per_epoch flag can be changed to run for longer or shorter, as defined in our `mnist_models/trainer/task.py` file."
   ]
  },
  {
   "cell_type": "code",
   "execution_count": 17,
   "metadata": {},
   "outputs": [
    {
     "name": "stdout",
     "output_type": "stream",
     "text": [
      "Epoch 1/5\n",
      "50/50 - 9s - loss: 0.9820 - accuracy: 0.6936 - val_loss: 0.2927 - val_accuracy: 0.9156\n",
      "Epoch 2/5\n",
      "50/50 - 5s - loss: 0.3049 - accuracy: 0.9126 - val_loss: 0.1737 - val_accuracy: 0.9479\n",
      "Epoch 3/5\n",
      "50/50 - 5s - loss: 0.1840 - accuracy: 0.9478 - val_loss: 0.1244 - val_accuracy: 0.9614\n",
      "Epoch 4/5\n",
      "50/50 - 5s - loss: 0.1752 - accuracy: 0.9474 - val_loss: 0.1103 - val_accuracy: 0.9639\n",
      "Epoch 5/5\n",
      "50/50 - 5s - loss: 0.1415 - accuracy: 0.9564 - val_loss: 0.0904 - val_accuracy: 0.9726\n"
     ]
    },
    {
     "name": "stderr",
     "output_type": "stream",
     "text": [
      "2021-08-13 06:35:34.475704: I tensorflow/core/common_runtime/process_util.cc:146] Creating new thread pool with default inter op setting: 2. Tune using inter_op_parallelism_threads for best performance.\n",
      "2021-08-13 06:35:34.955905: I tensorflow/core/profiler/lib/profiler_session.cc:126] Profiler session initializing.\n",
      "2021-08-13 06:35:34.955951: I tensorflow/core/profiler/lib/profiler_session.cc:141] Profiler session started.\n",
      "2021-08-13 06:35:34.955992: I tensorflow/core/profiler/lib/profiler_session.cc:159] Profiler session tear down.\n",
      "2021-08-13 06:35:35.724748: I tensorflow/compiler/mlir/mlir_graph_optimization_pass.cc:176] None of the MLIR Optimization Passes are enabled (registered 2)\n",
      "2021-08-13 06:35:35.726952: I tensorflow/core/platform/profile_utils/cpu_utils.cc:114] CPU Frequency: 2200150000 Hz\n",
      "2021-08-13 06:35:38.942929: I tensorflow/core/profiler/lib/profiler_session.cc:126] Profiler session initializing.\n",
      "2021-08-13 06:35:38.943333: I tensorflow/core/profiler/lib/profiler_session.cc:141] Profiler session started.\n",
      "2021-08-13 06:35:38.990252: I tensorflow/core/profiler/lib/profiler_session.cc:66] Profiler session collecting data.\n",
      "2021-08-13 06:35:38.996110: I tensorflow/core/profiler/lib/profiler_session.cc:159] Profiler session tear down.\n",
      "2021-08-13 06:35:39.004590: I tensorflow/core/profiler/rpc/client/save_profile.cc:137] Creating directory: mnist_models/models/cnn_210813_063527/train/plugins/profile/2021_08_13_06_35_38\n",
      "2021-08-13 06:35:39.009429: I tensorflow/core/profiler/rpc/client/save_profile.cc:143] Dumped gzipped tool data for trace.json.gz to mnist_models/models/cnn_210813_063527/train/plugins/profile/2021_08_13_06_35_38/tensorflow-2-5-20210813-114444.trace.json.gz\n",
      "2021-08-13 06:35:39.016799: I tensorflow/core/profiler/rpc/client/save_profile.cc:137] Creating directory: mnist_models/models/cnn_210813_063527/train/plugins/profile/2021_08_13_06_35_38\n",
      "2021-08-13 06:35:39.017718: I tensorflow/core/profiler/rpc/client/save_profile.cc:143] Dumped gzipped tool data for memory_profile.json.gz to mnist_models/models/cnn_210813_063527/train/plugins/profile/2021_08_13_06_35_38/tensorflow-2-5-20210813-114444.memory_profile.json.gz\n",
      "2021-08-13 06:35:39.018557: I tensorflow/core/profiler/rpc/client/capture_profile.cc:251] Creating directory: mnist_models/models/cnn_210813_063527/train/plugins/profile/2021_08_13_06_35_38Dumped tool data for xplane.pb to mnist_models/models/cnn_210813_063527/train/plugins/profile/2021_08_13_06_35_38/tensorflow-2-5-20210813-114444.xplane.pb\n",
      "Dumped tool data for overview_page.pb to mnist_models/models/cnn_210813_063527/train/plugins/profile/2021_08_13_06_35_38/tensorflow-2-5-20210813-114444.overview_page.pb\n",
      "Dumped tool data for input_pipeline.pb to mnist_models/models/cnn_210813_063527/train/plugins/profile/2021_08_13_06_35_38/tensorflow-2-5-20210813-114444.input_pipeline.pb\n",
      "Dumped tool data for tensorflow_stats.pb to mnist_models/models/cnn_210813_063527/train/plugins/profile/2021_08_13_06_35_38/tensorflow-2-5-20210813-114444.tensorflow_stats.pb\n",
      "Dumped tool data for kernel_stats.pb to mnist_models/models/cnn_210813_063527/train/plugins/profile/2021_08_13_06_35_38/tensorflow-2-5-20210813-114444.kernel_stats.pb\n",
      "\n",
      "2021-08-13 06:36:04.689460: W tensorflow/python/util/util.cc:348] Sets are not currently considered sequences, but this may change in the future, so consider avoiding using them.\n"
     ]
    }
   ],
   "source": [
    "%%bash\n",
    "python3 -m mnist_models.trainer.task \\\n",
    "    --job-dir=$JOB_DIR \\\n",
    "    --epochs=5 \\\n",
    "    --steps_per_epoch=50 \\\n",
    "    --model_type=$MODEL_TYPE"
   ]
  },
  {
   "cell_type": "markdown",
   "metadata": {},
   "source": [
    "## Training on the cloud\n",
    "\n",
    "Since we're using an unreleased version of TensorFlow on AI Platform, we can instead use a [Deep Learning Container](https://cloud.google.com/ai-platform/deep-learning-containers/docs/overview) in order to take advantage of libraries and applications not normally packaged with AI Platform. Below is a simple [Dockerlife](https://docs.docker.com/engine/reference/builder/) which copies our code to be used in a TF2 environment."
   ]
  },
  {
   "cell_type": "code",
   "execution_count": 18,
   "metadata": {},
   "outputs": [
    {
     "name": "stdout",
     "output_type": "stream",
     "text": [
      "Overwriting mnist_models/Dockerfile\n"
     ]
    }
   ],
   "source": [
    "%%writefile mnist_models/Dockerfile\n",
    "FROM gcr.io/deeplearning-platform-release/tf2-cpu\n",
    "COPY mnist_models/trainer /mnist_models/trainer\n",
    "ENTRYPOINT [\"python3\", \"-m\", \"mnist_models.trainer.task\"]"
   ]
  },
  {
   "cell_type": "markdown",
   "metadata": {},
   "source": [
    "The below command builds the image and ships it off to Google Cloud so it can be used for AI Platform. When built, it will show up [here](http://console.cloud.google.com/gcr) with the name `mnist_models`. ([Click here](https://console.cloud.google.com/cloud-build) to enable Cloud Build)"
   ]
  },
  {
   "cell_type": "code",
   "execution_count": 20,
   "metadata": {},
   "outputs": [
    {
     "name": "stdout",
     "output_type": "stream",
     "text": [
      "Sending build context to Docker daemon  11.15MB\n",
      "Step 1/3 : FROM gcr.io/deeplearning-platform-release/tf2-cpu\n",
      " ---> 41ad127133f5\n",
      "Step 2/3 : COPY mnist_models/trainer /mnist_models/trainer\n",
      " ---> Using cache\n",
      " ---> dae6e40b32fa\n",
      "Step 3/3 : ENTRYPOINT [\"python3\", \"-m\", \"mnist_models.trainer.task\"]\n",
      " ---> Using cache\n",
      " ---> 392a569357be\n",
      "Successfully built 392a569357be\n",
      "Successfully tagged gcr.io/qwiklabs-gcp-00-188beb26468b/mnist_models_1:latest\n"
     ]
    }
   ],
   "source": [
    "!docker build -f mnist_models/Dockerfile -t $IMAGE_URI ./"
   ]
  },
  {
   "cell_type": "code",
   "execution_count": 21,
   "metadata": {},
   "outputs": [
    {
     "name": "stdout",
     "output_type": "stream",
     "text": [
      "Using default tag: latest\n",
      "The push refers to repository [gcr.io/qwiklabs-gcp-00-188beb26468b/mnist_models_1]\n",
      "\n",
      "\u001b[1B7edfa297: Preparing \n",
      "\u001b[1B8657c8ea: Preparing \n",
      "\u001b[1Bf3f0bc61: Preparing \n",
      "\u001b[1B84cdcd53: Preparing \n",
      "\u001b[1B8fe462d3: Preparing \n",
      "\u001b[1B582c8414: Preparing \n",
      "\u001b[1B2fcdb550: Preparing \n",
      "\u001b[1Bfcf5cda1: Preparing \n",
      "\u001b[1Ba6645274: Preparing \n",
      "\u001b[1B3adcd9d2: Preparing \n",
      "\u001b[1B4eca1563: Preparing \n",
      "\u001b[1Bb4bc0668: Preparing \n",
      "\u001b[1Bc73dfc63: Preparing \n",
      "\u001b[1B8e4795f1: Preparing \n",
      "\u001b[1B9d96e302: Preparing \n",
      "\u001b[1Bbf18a086: Preparing \n",
      "\u001b[1B88b681cd: Preparing \n",
      "\u001b[1Ba46b9ff5: Preparing \n",
      "\u001b[1Be6413c69: Preparing \n",
      "\u001b[2Be6413c69: Mounted from deeplearning-platform-release/tf2-cpu \u001b[19A\u001b[2K\u001b[18A\u001b[2K\u001b[16A\u001b[2K\u001b[14A\u001b[2K\u001b[13A\u001b[2K\u001b[9A\u001b[2K\u001b[10A\u001b[2K\u001b[11A\u001b[2K\u001b[8A\u001b[2K\u001b[7A\u001b[2K\u001b[5A\u001b[2K\u001b[6A\u001b[2K\u001b[3A\u001b[2K\u001b[1A\u001b[2K\u001b[4A\u001b[2K\u001b[2A\u001b[2Klatest: digest: sha256:faa0245a615164cab5af7b60d43469a9eeda78ec99eabb6fc396b5b6a7171d11 size: 4506\n"
     ]
    }
   ],
   "source": [
    "!docker push $IMAGE_URI"
   ]
  },
  {
   "cell_type": "markdown",
   "metadata": {},
   "source": [
    "Finally, we can kickoff the [AI Platform training job](https://cloud.google.com/sdk/gcloud/reference/ai-platform/jobs/submit/training). We can pass in our docker image using the `master-image-uri` flag."
   ]
  },
  {
   "cell_type": "code",
   "execution_count": 22,
   "metadata": {},
   "outputs": [],
   "source": [
    "current_time = datetime.now().strftime(\"%y%m%d_%H%M%S\")\n",
    "model_type = 'cnn' # \"linear\", \"cnn\", \"dnn_dropout\", or \"dnn\"\n",
    "\n",
    "os.environ[\"MODEL_TYPE\"] = model_type\n",
    "os.environ[\"JOB_DIR\"] = \"gs://{}/mnist_{}_{}/\".format(\n",
    "    BUCKET, model_type, current_time)\n",
    "os.environ[\"JOB_NAME\"] = \"mnist_{}_{}\".format(\n",
    "    model_type, current_time)"
   ]
  },
  {
   "cell_type": "code",
   "execution_count": 23,
   "metadata": {},
   "outputs": [
    {
     "name": "stdout",
     "output_type": "stream",
     "text": [
      "gs://qwiklabs-gcp-00-188beb26468b/mnist_cnn_210813_063713/ us-central1 mnist_cnn_210813_063713\n",
      "jobId: mnist_cnn_210813_063713\n",
      "state: QUEUED\n"
     ]
    },
    {
     "name": "stderr",
     "output_type": "stream",
     "text": [
      "Job [mnist_cnn_210813_063713] submitted successfully.\n",
      "Your job is still active. You may view the status of your job with the command\n",
      "\n",
      "  $ gcloud ai-platform jobs describe mnist_cnn_210813_063713\n",
      "\n",
      "or continue streaming the logs with the command\n",
      "\n",
      "  $ gcloud ai-platform jobs stream-logs mnist_cnn_210813_063713\n"
     ]
    }
   ],
   "source": [
    "%%bash\n",
    "echo $JOB_DIR $REGION $JOB_NAME\n",
    "gcloud ai-platform jobs submit training $JOB_NAME \\\n",
    "    --staging-bucket=gs://$BUCKET \\\n",
    "    --region=$REGION \\\n",
    "    --master-image-uri=$IMAGE_URI \\\n",
    "    --scale-tier=BASIC_GPU \\\n",
    "    --job-dir=$JOB_DIR \\\n",
    "    -- \\\n",
    "    --model_type=$MODEL_TYPE"
   ]
  },
  {
   "cell_type": "markdown",
   "metadata": {},
   "source": [
    "Can't wait to see the results? Run the code below and copy the output into the [Google Cloud Shell](https://console.cloud.google.com/home/dashboard?cloudshell=true) to follow."
   ]
  },
  {
   "cell_type": "markdown",
   "metadata": {},
   "source": [
    "## Deploying and predicting with model\n",
    "\n",
    "Once you have a model you're proud of, let's deploy it! All we need to do is give AI Platform the location of the model. Below uses the keras export path of the previous job, but `${JOB_DIR}keras_export/` can always be changed to a different path.\n",
    "\n",
    "Uncomment the delete commands below if you are getting an \"already exists error\" and want to deploy a new model."
   ]
  },
  {
   "cell_type": "code",
   "execution_count": 31,
   "metadata": {},
   "outputs": [
    {
     "name": "stdout",
     "output_type": "stream",
     "text": [
      "Deleting and deploying mnist cnn from gs://qwiklabs-gcp-00-188beb26468b/mnist_cnn_210813_063713/keras_export/ ... this will take a few minutes\n"
     ]
    },
    {
     "name": "stderr",
     "output_type": "stream",
     "text": [
      "Updated property [ai_platform/region].\n",
      "Using endpoint [https://ml.googleapis.com/]\n",
      "Created ai platform model [projects/qwiklabs-gcp-00-188beb26468b/models/mnist].\n"
     ]
    }
   ],
   "source": [
    "%%bash\n",
    "MODEL_NAME=\"mnist\"\n",
    "MODEL_VERSION=${MODEL_TYPE}\n",
    "MODEL_LOCATION=${JOB_DIR}keras_export/\n",
    "echo \"Deleting and deploying $MODEL_NAME $MODEL_VERSION from $MODEL_LOCATION ... this will take a few minutes\"\n",
    "#yes | gcloud ai-platform versions delete ${MODEL_VERSION} --model ${MODEL_NAME}\n",
    "#yes | gcloud ai-platform models delete ${MODEL_NAME}\n",
    "gcloud config set ai_platform/region global\n",
    "gcloud ai-platform models create ${MODEL_NAME} --regions $REGION"
   ]
  },
  {
   "cell_type": "code",
   "execution_count": 35,
   "metadata": {},
   "outputs": [
    {
     "name": "stderr",
     "output_type": "stream",
     "text": [
      "Using endpoint [https://ml.googleapis.com/]\n",
      "Creating version (this might take a few minutes)......\n",
      "...............................................................................................................................................................................................................................................................................................................................................................................................................................................................................................................................................................................................................................................................................................................................................................................................................................................................................done.\n"
     ]
    }
   ],
   "source": [
    "%%bash\n",
    "MODEL_NAME=\"mnist\"\n",
    "MODEL_VERSION=${MODEL_TYPE}\n",
    "MODEL_LOCATION=${JOB_DIR}keras_export/\n",
    "gcloud ai-platform versions create ${MODEL_VERSION} \\\n",
    "    --model ${MODEL_NAME} \\\n",
    "    --origin ${MODEL_LOCATION} \\\n",
    "    --framework tensorflow \\\n",
    "    --runtime-version=2.5"
   ]
  },
  {
   "cell_type": "markdown",
   "metadata": {},
   "source": [
    "To predict with the model, let's take one of the example images.\n",
    "\n",
    "**TODO 4**: Write a `.json` file with image data to send to an AI Platform deployed model"
   ]
  },
  {
   "cell_type": "code",
   "execution_count": 45,
   "metadata": {},
   "outputs": [],
   "source": [
    "import json, codecs\n",
    "import tensorflow as tf\n",
    "import matplotlib.pyplot as plt\n",
    "from mnist_models.trainer import util\n",
    "\n",
    "HEIGHT = 28\n",
    "WIDTH = 28\n",
    "IMGNO = 12\n",
    "\n",
    "mnist = tf.keras.datasets.mnist.load_data()\n",
    "(x_train, y_train), (x_test, y_test) = mnist\n",
    "test_image = x_test[IMGNO:IMGNO+2]\n",
    "\n",
    "jsondata = test_image.reshape(2,HEIGHT, WIDTH, 1).tolist()\n",
    "json.dump(jsondata, codecs.open(\"test.json\", \"w\", encoding = \"utf-8\"))\n",
    "# plt.imshow(test_image.reshape(HEIGHT, WIDTH));"
   ]
  },
  {
   "cell_type": "code",
   "execution_count": 46,
   "metadata": {},
   "outputs": [
    {
     "data": {
      "text/plain": [
       "(2, 28, 28, 1)"
      ]
     },
     "execution_count": 46,
     "metadata": {},
     "output_type": "execute_result"
    }
   ],
   "source": [
    "test_image.reshape(2,HEIGHT, WIDTH, 1).shape"
   ]
  },
  {
   "cell_type": "code",
   "execution_count": 40,
   "metadata": {},
   "outputs": [
    {
     "data": {
      "text/plain": [
       "(28, 28, 1)"
      ]
     },
     "execution_count": 40,
     "metadata": {},
     "output_type": "execute_result"
    }
   ],
   "source": [
    "test_image.reshape(HEIGHT, WIDTH, 1).shape"
   ]
  },
  {
   "cell_type": "code",
   "execution_count": 30,
   "metadata": {},
   "outputs": [
    {
     "data": {
      "image/png": "[encoded data removed]",
      "text/plain": [
       "<Figure size 432x288 with 1 Axes>"
      ]
     },
     "metadata": {
      "needs_background": "light"
     },
     "output_type": "display_data"
    }
   ],
   "source": [
    "plt.imshow(test_image[0].reshape(HEIGHT, WIDTH));"
   ]
  },
  {
   "cell_type": "markdown",
   "metadata": {},
   "source": [
    "Finally, we can send it to the prediction service. The output will have a 1 in the index of the corresponding digit it is predicting. Congrats! You've completed the lab!"
   ]
  },
  {
   "cell_type": "code",
   "execution_count": 44,
   "metadata": {},
   "outputs": [
    {
     "name": "stdout",
     "output_type": "stream",
     "text": [
      "{\n",
      "  \"error\": \"Prediction failed: Error during model execution: <_MultiThreadedRendezvous of RPC that terminated with:\\n\\tstatus = StatusCode.INVALID_ARGUMENT\\n\\tdetails = \\\"input must be 4-dimensional[1,1,2,28,28,1]\\n\\t [[{{node sequential/conv2d/Relu}}]]\\\"\\n\\tdebug_error_string = \\\"{\\\"created\\\":\\\"@1628838434.038406056\\\",\\\"description\\\":\\\"Error received from peer ipv4:127.0.0.1:8081\\\",\\\"file\\\":\\\"src/core/lib/surface/call.cc\\\",\\\"file_line\\\":1062,\\\"grpc_message\\\":\\\"input must be 4-dimensional[1,1,2,28,28,1]\\\\n\\\\t [[{{node sequential/conv2d/Relu}}]]\\\",\\\"grpc_status\\\":3}\\\"\\n>\"\n",
      "}\n"
     ]
    },
    {
     "name": "stderr",
     "output_type": "stream",
     "text": [
      "Using endpoint [https://ml.googleapis.com/]\n"
     ]
    }
   ],
   "source": [
    "%%bash\n",
    "gcloud ai-platform predict \\\n",
    "    --model=mnist \\\n",
    "    --version=${MODEL_TYPE} \\\n",
    "    --json-instances=./test.json"
   ]
  },
  {
   "cell_type": "markdown",
   "metadata": {},
   "source": [
    "Copyright 2021 Google Inc.\n",
    "Licensed under the Apache License, Version 2.0 (the \"License\"); you may not use this file except in compliance with the License. You may obtain a copy of the License at\n",
    "http://www.apache.org/licenses/LICENSE-2.0\n",
    "Unless required by applicable law or agreed to in writing, software distributed under the License is distributed on an \"AS IS\" BASIS, WITHOUT WARRANTIES OR CONDITIONS OF ANY KIND, either express or implied. See the License for the specific language governing permissions and limitations under the License."
   ]
  }
 ],
 "metadata": {
  "environment": {
   "name": "tf2-gpu.2-5.m76",
   "type": "gcloud",
   "uri": "gcr.io/deeplearning-platform-release/tf2-gpu.2-5:m76"
  },
  "kernelspec": {
   "display_name": "Python 3",
   "language": "python",
   "name": "python3"
  },
  "language_info": {
   "codemirror_mode": {
    "name": "ipython",
    "version": 3
   },
   "file_extension": ".py",
   "mimetype": "text/x-python",
   "name": "python",
   "nbconvert_exporter": "python",
   "pygments_lexer": "ipython3",
   "version": "3.7.10"
  }
 },
 "nbformat": 4,
 "nbformat_minor": 4
}
